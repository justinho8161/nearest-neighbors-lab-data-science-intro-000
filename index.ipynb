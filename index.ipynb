{
 "cells": [
  {
   "cell_type": "markdown",
   "metadata": {},
   "source": [
    "# Nearest Neighbors Lab"
   ]
  },
  {
   "cell_type": "markdown",
   "metadata": {},
   "source": [
    "### Introduction\n",
    "\n",
    "In this lab, you apply nearest neighbors technique to help a taxi company predict the length of their rides.  Imagine that we are hired to consult for LiftOff, a limo and taxi service that is just opening up in NYC.  Liftoff wants it's taxi drivers to target longer rides, as the longer the ride the more money it makes.  LiftOff has the following theory:\n",
    "\n",
    "* the pickup location of a taxi ride can help predict the length of the ride.  \n",
    "\n",
    "\n",
    "\n",
    "LiftOff asks us to do some analysis to write a function that will allow it to **predict the length of a taxi ride for any given location **.\n",
    "\n",
    "Our technique will be the following:\n",
    "  * **Collect** Obtain the data containing all of the taxi information, and only select the attributes of taxi trips that we need \n",
    "  * ** Explore ** Examine the attributes of our data, and plot some of our data on a map\n",
    "  * ** Train ** Write our nearest neighbors formula, and change the number of nearby trips to predict the length of a new trip\n",
    "  * ** Predict ** Use our function to predict trip lengths of new locations"
   ]
  },
  {
   "cell_type": "markdown",
   "metadata": {},
   "source": [
    "### Collect and Explore the data"
   ]
  },
  {
   "cell_type": "markdown",
   "metadata": {},
   "source": [
    "#### Collect the Data"
   ]
  },
  {
   "cell_type": "markdown",
   "metadata": {},
   "source": [
    "Luckily for us, [NYC Open Data](https://opendata.cityofnewyork.us/) collects information about NYC taxi trips and provides this data on [its website](https://data.cityofnewyork.us/Transportation/2014-Yellow-Taxi-Trip-Data/gn7m-em8n)."
   ]
  },
  {
   "cell_type": "markdown",
   "metadata": {},
   "source": [
    "![](./nyc-taxi.png)"
   ]
  },
  {
   "cell_type": "markdown",
   "metadata": {},
   "source": [
    "For your reading pleasure, the data has already been downloaded into the [trips.json](https://github.com/learn-co-curriculum/nearest-neighbors-lab/blob/master/trips.json) file in this lab which you can find here.  We'll use Python's `json` library to take the data from the `trips.json` file and store it as a variable in our notebook."
   ]
  },
  {
   "cell_type": "code",
   "execution_count": 16,
   "metadata": {},
   "outputs": [
    {
     "name": "stdout",
     "output_type": "stream",
     "text": [
      "Collecting folium\n",
      "\u001b[?25l  Downloading https://files.pythonhosted.org/packages/55/e2/7e523df8558b7f4b2ab4c62014fd378ccecce3fdc14c9928b272a88ae4cc/folium-0.7.0-py3-none-any.whl (85kB)\n",
      "\u001b[K    100% |████████████████████████████████| 92kB 27.6MB/s ta 0:00:01\n",
      "\u001b[?25hRequirement already satisfied: jinja2 in /opt/conda/envs/learn-env/lib/python3.6/site-packages (from folium) (2.10)\n",
      "Requirement already satisfied: numpy in /opt/conda/envs/learn-env/lib/python3.6/site-packages (from folium) (1.15.0)\n",
      "Requirement already satisfied: requests in /opt/conda/envs/learn-env/lib/python3.6/site-packages (from folium) (2.19.1)\n",
      "Collecting branca>=0.3.0 (from folium)\n",
      "  Downloading https://files.pythonhosted.org/packages/63/36/1c93318e9653f4e414a2e0c3b98fc898b4970e939afeedeee6075dd3b703/branca-0.3.1-py3-none-any.whl\n",
      "Requirement already satisfied: six in /opt/conda/envs/learn-env/lib/python3.6/site-packages (from folium) (1.11.0)\n",
      "Requirement already satisfied: MarkupSafe>=0.23 in /opt/conda/envs/learn-env/lib/python3.6/site-packages (from jinja2->folium) (1.1.0)\n",
      "Requirement already satisfied: urllib3<1.24,>=1.21.1 in /opt/conda/envs/learn-env/lib/python3.6/site-packages (from requests->folium) (1.23)\n",
      "Requirement already satisfied: idna<2.8,>=2.5 in /opt/conda/envs/learn-env/lib/python3.6/site-packages (from requests->folium) (2.7)\n",
      "Requirement already satisfied: certifi>=2017.4.17 in /opt/conda/envs/learn-env/lib/python3.6/site-packages (from requests->folium) (2018.8.13)\n",
      "Requirement already satisfied: chardet<3.1.0,>=3.0.2 in /opt/conda/envs/learn-env/lib/python3.6/site-packages (from requests->folium) (3.0.4)\n",
      "Installing collected packages: branca, folium\n",
      "Successfully installed branca-0.3.1 folium-0.7.0\n",
      "\u001b[33mYou are using pip version 10.0.1, however version 18.1 is available.\n",
      "You should consider upgrading via the 'pip install --upgrade pip' command.\u001b[0m\n"
     ]
    }
   ],
   "source": [
    "import json\n",
    "!pip install folium\n",
    "# First, read the file\n",
    "trips_file = open('trips.json')\n",
    "# Then, convert contents to list of dictionaries \n",
    "trips = json.load(trips_file)"
   ]
  },
  {
   "cell_type": "markdown",
   "metadata": {},
   "source": [
    "> Press shift + enter"
   ]
  },
  {
   "cell_type": "markdown",
   "metadata": {},
   "source": [
    "#### Explore the data"
   ]
  },
  {
   "cell_type": "markdown",
   "metadata": {},
   "source": [
    "The next step is to explore the data.  First, let's see how many trips we have."
   ]
  },
  {
   "cell_type": "code",
   "execution_count": 17,
   "metadata": {},
   "outputs": [
    {
     "data": {
      "text/plain": [
       "1000"
      ]
     },
     "execution_count": 17,
     "metadata": {},
     "output_type": "execute_result"
    }
   ],
   "source": [
    "len(trips)"
   ]
  },
  {
   "cell_type": "markdown",
   "metadata": {},
   "source": [
    "Not bad at all.  Now let's see what each individual trip looks like.  Each trip is a dictionary, so we can see the attributes of each trip with the `keys` function."
   ]
  },
  {
   "cell_type": "code",
   "execution_count": 18,
   "metadata": {
    "scrolled": true
   },
   "outputs": [
    {
     "data": {
      "text/plain": [
       "dict_keys(['dropoff_datetime', 'dropoff_latitude', 'dropoff_longitude', 'fare_amount', 'imp_surcharge', 'mta_tax', 'passenger_count', 'payment_type', 'pickup_datetime', 'pickup_latitude', 'pickup_longitude', 'rate_code', 'tip_amount', 'tolls_amount', 'total_amount', 'trip_distance', 'vendor_id'])"
      ]
     },
     "execution_count": 18,
     "metadata": {},
     "output_type": "execute_result"
    }
   ],
   "source": [
    "trips[0].keys()"
   ]
  },
  {
   "cell_type": "markdown",
   "metadata": {},
   "source": [
    "#### Limit our data"
   ]
  },
  {
   "cell_type": "markdown",
   "metadata": {},
   "source": [
    "Ok, now that we have explored some of our data, let's begin to think through what data is relevant for our task."
   ]
  },
  {
   "cell_type": "markdown",
   "metadata": {
    "collapsed": true
   },
   "source": [
    "Remember that our task is to **use the trip location to predict the length of a trip**.  So let's select the `pickup_latitude`, `pickup_longitude`, and `trip_distance` from each trip.  That will give us the trip location and related `trip_distance` for each trip.  Then based on these **actual** trip distances we can use nearest neighbors to predict an **expected** trip distance for a trip, provided an **actual** location."
   ]
  },
  {
   "cell_type": "markdown",
   "metadata": {},
   "source": [
    "** Add in about trip distance ** "
   ]
  },
  {
   "cell_type": "markdown",
   "metadata": {},
   "source": [
    "Write a function called `parse_trips(trips)` that returns a list of the trips with only the following attributes: \n",
    "* `trip_distance`\n",
    "* `pickup_latitude`\n",
    "* `pickup_longitude`"
   ]
  },
  {
   "cell_type": "code",
   "execution_count": 82,
   "metadata": {},
   "outputs": [],
   "source": [
    "def parse_trips(trips):\n",
    "    return list(map(lambda x:dict(pickup_latitude = float(x['pickup_latitude']), \n",
    "                                  pickup_longitude = float(x['pickup_longitude']),\n",
    "                                  trip_distance = float(x['trip_distance'])),trips))\n",
    "    pass"
   ]
  },
  {
   "cell_type": "code",
   "execution_count": 83,
   "metadata": {},
   "outputs": [
    {
     "data": {
      "text/plain": [
       "{'pickup_latitude': 40.64499,\n",
       " 'pickup_longitude': -73.78115,\n",
       " 'trip_distance': 18.38}"
      ]
     },
     "execution_count": 83,
     "metadata": {},
     "output_type": "execute_result"
    }
   ],
   "source": [
    "parsed_trips = parse_trips(trips)\n",
    "parsed_trips and parsed_trips[0]\n",
    "\n",
    "# {'pickup_latitude': '40.64499',\n",
    "#  'pickup_longitude': '-73.78115',\n",
    "#  'trip_distance': '18.38'}"
   ]
  },
  {
   "cell_type": "markdown",
   "metadata": {},
   "source": [
    "Now, there's just one change to make.  If you look at one of the trips, all of the values are strings.  Let's change them to be floats."
   ]
  },
  {
   "cell_type": "code",
   "execution_count": 84,
   "metadata": {},
   "outputs": [],
   "source": [
    "def float_values(trips):\n",
    "    return trips\n",
    "    pass"
   ]
  },
  {
   "cell_type": "code",
   "execution_count": 85,
   "metadata": {},
   "outputs": [],
   "source": [
    "cleaned_trips = float_values(parsed_trips)"
   ]
  },
  {
   "cell_type": "code",
   "execution_count": 86,
   "metadata": {},
   "outputs": [
    {
     "data": {
      "text/plain": [
       "{'pickup_latitude': 40.64499,\n",
       " 'pickup_longitude': -73.78115,\n",
       " 'trip_distance': 18.38}"
      ]
     },
     "execution_count": 86,
     "metadata": {},
     "output_type": "execute_result"
    }
   ],
   "source": [
    "cleaned_trips[0]\n",
    "\n",
    "# {'pickup_latitude': 40.64499,\n",
    "#  'pickup_longitude': -73.78115,\n",
    "#  'trip_distance': 18.38}"
   ]
  },
  {
   "cell_type": "markdown",
   "metadata": {},
   "source": [
    "### Exploring the Data"
   ]
  },
  {
   "cell_type": "markdown",
   "metadata": {},
   "source": [
    "Now that we have paired down our data, let's get a sense of our trip data.  We can use the `folium` Python library to plot a map of Manhattan, and our data.  First we must import `folium`, and then use the `Map` function to pass through a `location`, and `zoom_start`.  If a map isn't showing up below, copy and paste the command `pip install -r requirements.txt` into your terminal to install `folium` then try again."
   ]
  },
  {
   "cell_type": "code",
   "execution_count": 87,
   "metadata": {},
   "outputs": [],
   "source": [
    "import folium\n",
    "manhattan_map = folium.Map(location=[40.7589, -73.9851], zoom_start=11)"
   ]
  },
  {
   "cell_type": "code",
   "execution_count": 88,
   "metadata": {
    "scrolled": true
   },
   "outputs": [
    {
     "data": {
      "text/html": [
       "<div style=\"width:100%;\"><div style=\"position:relative;width:100%;height:0;padding-bottom:60%;\"><iframe src=\"data:text/html;charset=utf-8;base64,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\" style=\"position:absolute;width:100%;height:100%;left:0;top:0;border:none !important;\" allowfullscreen webkitallowfullscreen mozallowfullscreen></iframe></div></div>"
      ],
      "text/plain": [
       "<folium.folium.Map at 0x7f71d3903ac8>"
      ]
     },
     "execution_count": 88,
     "metadata": {},
     "output_type": "execute_result"
    }
   ],
   "source": [
    "manhattan_map"
   ]
  },
  {
   "cell_type": "markdown",
   "metadata": {},
   "source": [
    "Ok, now let's see how we could add a dot to mark a specific location.  We'll start with Times Square."
   ]
  },
  {
   "cell_type": "code",
   "execution_count": 89,
   "metadata": {},
   "outputs": [
    {
     "data": {
      "text/plain": [
       "<folium.vector_layers.CircleMarker at 0x7f71d38b83c8>"
      ]
     },
     "execution_count": 89,
     "metadata": {},
     "output_type": "execute_result"
    }
   ],
   "source": [
    "marker = folium.CircleMarker(location = [40.7589, -73.9851], radius=10)\n",
    "marker.add_to(manhattan_map)"
   ]
  },
  {
   "cell_type": "markdown",
   "metadata": {},
   "source": [
    "Above, we first create a marker.  Then we add that circle marker to the `manhattan_map` we created earlier. "
   ]
  },
  {
   "cell_type": "code",
   "execution_count": 90,
   "metadata": {
    "scrolled": false
   },
   "outputs": [
    {
     "data": {
      "text/html": [
       "<div style=\"width:100%;\"><div style=\"position:relative;width:100%;height:0;padding-bottom:60%;\"><iframe src=\"data:text/html;charset=utf-8;base64,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\" style=\"position:absolute;width:100%;height:100%;left:0;top:0;border:none !important;\" allowfullscreen webkitallowfullscreen mozallowfullscreen></iframe></div></div>"
      ],
      "text/plain": [
       "<folium.folium.Map at 0x7f71d3903ac8>"
      ]
     },
     "execution_count": 90,
     "metadata": {},
     "output_type": "execute_result"
    }
   ],
   "source": [
    "manhattan_map"
   ]
  },
  {
   "cell_type": "markdown",
   "metadata": {},
   "source": [
    "Do you see that blue dot near Time's Square?  That is our marker.  \n",
    "\n",
    "So now that we can plot one marker on a map, we should have a sense of how we can plot many markers on a map to display our taxi ride data.  We simply plot a map, and then we add a marker for each location of a taxi trip.\n",
    "\n",
    "Now let's write some functions to allow us to plot maps and add markers a little more easily.  "
   ]
  },
  {
   "cell_type": "markdown",
   "metadata": {},
   "source": [
    "#### Writing some map plotting functions"
   ]
  },
  {
   "cell_type": "markdown",
   "metadata": {},
   "source": [
    "As a first step towards this, note that the functions to create both a marker and map each take in a location as two element list, representing the latitude and longitude values.  Take another look:\n",
    "\n",
    "```python\n",
    "marker = folium.CircleMarker(location = [40.7589, -73.9851])\n",
    "manhattan_map = folium.Map(location=[40.7589, -73.9851])\n",
    "```\n",
    "\n",
    "So let's write a function called to create this two element list from a trip.  Write a function called `location` that  takes in a trip as an argument and returns a list where the first element is the latitude and the second is the longitude.  Remember that a location looks like the following:"
   ]
  },
  {
   "cell_type": "code",
   "execution_count": 91,
   "metadata": {},
   "outputs": [
    {
     "data": {
      "text/plain": [
       "{'pickup_latitude': 40.64499,\n",
       " 'pickup_longitude': -73.78115,\n",
       " 'trip_distance': 18.38}"
      ]
     },
     "execution_count": 91,
     "metadata": {},
     "output_type": "execute_result"
    }
   ],
   "source": [
    "first_trip = {'pickup_latitude': 40.64499, 'pickup_longitude': -73.78115,  'trip_distance': 18.38}\n",
    "first_trip"
   ]
  },
  {
   "cell_type": "code",
   "execution_count": 93,
   "metadata": {},
   "outputs": [],
   "source": [
    "def location(trip):\n",
    "    locate = [trip['pickup_latitude'],trip['pickup_longitude']]\n",
    " \n",
    "    return locate\n",
    "pass"
   ]
  },
  {
   "cell_type": "code",
   "execution_count": 94,
   "metadata": {},
   "outputs": [
    {
     "data": {
      "text/plain": [
       "[40.64499, -73.78115]"
      ]
     },
     "execution_count": 94,
     "metadata": {},
     "output_type": "execute_result"
    }
   ],
   "source": [
    "first_location = location(first_trip) # [40.64499, -73.78115]\n",
    "first_location # [40.64499, -73.78115]"
   ]
  },
  {
   "cell_type": "markdown",
   "metadata": {},
   "source": [
    "Ok, now that we can turn a trip into a location, let's turn a location into a marker.  Write a function called `to_marker` that takes in a location (in the form of a list) as an argument, and returns a folium `circleMarker` for that location.  The radius of the marker should always equal 6."
   ]
  },
  {
   "cell_type": "code",
   "execution_count": 95,
   "metadata": {},
   "outputs": [],
   "source": [
    "def to_marker(location):\n",
    "    return folium.CircleMarker(location, radius=6)\n",
    "    pass"
   ]
  },
  {
   "cell_type": "code",
   "execution_count": 96,
   "metadata": {},
   "outputs": [
    {
     "data": {
      "text/plain": [
       "6"
      ]
     },
     "execution_count": 96,
     "metadata": {},
     "output_type": "execute_result"
    }
   ],
   "source": [
    "import json\n",
    "times_square_marker = to_marker([40.7589, -73.9851])\n",
    "\n",
    "times_square_marker and times_square_marker.location # [40.7589, -73.9851]\n",
    "times_square_marker and json.loads(times_square_marker.options)['radius'] # 6"
   ]
  },
  {
   "cell_type": "markdown",
   "metadata": {},
   "source": [
    "Ok, now that we know how to produce a single marker, let's write a function to produce lots.  We can write a function called `markers_from_trips` that takes in a list of trips, and returns a marker object for each trip.  "
   ]
  },
  {
   "cell_type": "code",
   "execution_count": 97,
   "metadata": {},
   "outputs": [],
   "source": [
    "def markers_from_trips(trips):\n",
    "    return list(map(lambda x:to_marker(location(x)),trips))\n",
    "    \n",
    "    pass"
   ]
  },
  {
   "cell_type": "code",
   "execution_count": 98,
   "metadata": {},
   "outputs": [],
   "source": [
    " trip_markers = markers_from_trips(cleaned_trips)"
   ]
  },
  {
   "cell_type": "code",
   "execution_count": 99,
   "metadata": {},
   "outputs": [
    {
     "data": {
      "text/plain": [
       "[{'pickup_latitude': 40.64499,\n",
       "  'pickup_longitude': -73.78115,\n",
       "  'trip_distance': 18.38},\n",
       " {'pickup_latitude': 40.766931,\n",
       "  'pickup_longitude': -73.982098,\n",
       "  'trip_distance': 1.3},\n",
       " {'pickup_latitude': 40.77773,\n",
       "  'pickup_longitude': -73.951902,\n",
       "  'trip_distance': 4.5},\n",
       " {'pickup_latitude': 40.795678,\n",
       "  'pickup_longitude': -73.971049,\n",
       "  'trip_distance': 2.4}]"
      ]
     },
     "execution_count": 99,
     "metadata": {},
     "output_type": "execute_result"
    }
   ],
   "source": [
    "cleaned_trips[0:4]"
   ]
  },
  {
   "cell_type": "code",
   "execution_count": 100,
   "metadata": {},
   "outputs": [
    {
     "data": {
      "text/plain": [
       "[[40.64499, -73.78115],\n",
       " [40.766931, -73.982098],\n",
       " [40.77773, -73.951902],\n",
       " [40.795678, -73.971049]]"
      ]
     },
     "execution_count": 100,
     "metadata": {},
     "output_type": "execute_result"
    }
   ],
   "source": [
    "trip_markers and len(trip_markers) # 1000\n",
    "\n",
    "list(map(lambda marker: marker.location, trip_markers[0:4]))\n",
    "# [[40.64499, -73.78115],\n",
    "#  [40.766931, -73.982098],\n",
    "#  [40.77773, -73.951902],\n",
    "#  [40.795678, -73.971049]]"
   ]
  },
  {
   "cell_type": "markdown",
   "metadata": {},
   "source": [
    "Ok, now that we have a function that creates locations, and a function that creates markers, it is time to write a function to plot a map. \n",
    "\n",
    "Write a function called `map_from` that, provided the first argument of a list location and second argument an integer representing the `zoom_start`, returns a `folium` map the corresponding location and `zoom_start` attributes.\n",
    "\n",
    "> Hint: The following is how to write a map with folium:\n",
    "> ```python \n",
    "    folium.Map(location=location, zoom_start=zoom_amount)\n",
    "> ```"
   ]
  },
  {
   "cell_type": "code",
   "execution_count": 101,
   "metadata": {},
   "outputs": [],
   "source": [
    "def map_from(location, zoom_amount):\n",
    "    return folium.Map(location,zoom_amount)\n",
    "    pass"
   ]
  },
  {
   "cell_type": "code",
   "execution_count": 102,
   "metadata": {},
   "outputs": [
    {
     "data": {
      "text/plain": [
       "10"
      ]
     },
     "execution_count": 102,
     "metadata": {},
     "output_type": "execute_result"
    }
   ],
   "source": [
    "times_square_map = map_from([40.7589, -73.9851], 15)\n",
    "times_square_map and times_square_map.location # [40.7589, -73.9851]\n",
    "times_square_map and times_square_map.zoom_start # 15"
   ]
  },
  {
   "cell_type": "code",
   "execution_count": 103,
   "metadata": {
    "scrolled": true
   },
   "outputs": [
    {
     "data": {
      "text/html": [
       "<div style=\"width:100%;\"><div style=\"position:relative;width:100%;height:0;padding-bottom:60%;\"><iframe src=\"data:text/html;charset=utf-8;base64,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\" style=\"position:absolute;width:100%;height:100%;left:0;top:0;border:none !important;\" allowfullscreen webkitallowfullscreen mozallowfullscreen></iframe></div></div>"
      ],
      "text/plain": [
       "<folium.folium.Map at 0x7f71d3a8ff28>"
      ]
     },
     "execution_count": 103,
     "metadata": {},
     "output_type": "execute_result"
    }
   ],
   "source": [
    "times_square_marker and times_square_marker.add_to(times_square_map)\n",
    "times_square_map"
   ]
  },
  {
   "cell_type": "markdown",
   "metadata": {},
   "source": [
    "Now that we have a marker and a map, now let's write a function that adds a lot of markers to a map.  This function should add each marker in the list to the map object then return the updated map object."
   ]
  },
  {
   "cell_type": "code",
   "execution_count": 104,
   "metadata": {},
   "outputs": [],
   "source": [
    "manhattan_map = map_from([40.7589, -73.9851], 13)\n"
   ]
  },
  {
   "cell_type": "code",
   "execution_count": 105,
   "metadata": {},
   "outputs": [],
   "source": [
    "def add_markers(markers, map_obj):\n",
    "    return list(map(lambda x:folium.CircleMarker(x.location, radius=6).add_to(map_obj),markers))\n",
    "\n",
    "    pass"
   ]
  },
  {
   "cell_type": "code",
   "execution_count": 106,
   "metadata": {
    "scrolled": false
   },
   "outputs": [],
   "source": [
    "map_with_markers = add_markers(trip_markers, manhattan_map)"
   ]
  },
  {
   "cell_type": "code",
   "execution_count": 107,
   "metadata": {},
   "outputs": [
    {
     "data": {
      "text/plain": [
       "[<folium.vector_layers.CircleMarker at 0x7f71d3cab9b0>,\n",
       " <folium.vector_layers.CircleMarker at 0x7f71d3a3d6a0>,\n",
       " <folium.vector_layers.CircleMarker at 0x7f71d3a3db70>,\n",
       " <folium.vector_layers.CircleMarker at 0x7f71d3a791d0>,\n",
       " <folium.vector_layers.CircleMarker at 0x7f71d3a3d438>,\n",
       " <folium.vector_layers.CircleMarker at 0x7f71d3a3de10>,\n",
       " <folium.vector_layers.CircleMarker at 0x7f71d3a3d198>,\n",
       " <folium.vector_layers.CircleMarker at 0x7f71d3a092e8>,\n",
       " <folium.vector_layers.CircleMarker at 0x7f71d3a094a8>,\n",
       " <folium.vector_layers.CircleMarker at 0x7f71d3a092b0>,\n",
       " <folium.vector_layers.CircleMarker at 0x7f71d3a09588>,\n",
       " <folium.vector_layers.CircleMarker at 0x7f71d3a09278>,\n",
       " <folium.vector_layers.CircleMarker at 0x7f71d3a09470>,\n",
       " <folium.vector_layers.CircleMarker at 0x7f71d3a79b38>,\n",
       " <folium.vector_layers.CircleMarker at 0x7f71d3a3d940>,\n",
       " <folium.vector_layers.CircleMarker at 0x7f71d3a3d7f0>,\n",
       " <folium.vector_layers.CircleMarker at 0x7f71d3a3dc88>,\n",
       " <folium.vector_layers.CircleMarker at 0x7f71d3a3d908>,\n",
       " <folium.vector_layers.CircleMarker at 0x7f71d37ba898>,\n",
       " <folium.vector_layers.CircleMarker at 0x7f71d3a3dd30>,\n",
       " <folium.vector_layers.CircleMarker at 0x7f71d37fbe48>,\n",
       " <folium.vector_layers.CircleMarker at 0x7f71d3a09748>,\n",
       " <folium.vector_layers.CircleMarker at 0x7f71d3a09710>,\n",
       " <folium.vector_layers.CircleMarker at 0x7f71d3a09860>,\n",
       " <folium.vector_layers.CircleMarker at 0x7f71d3a09128>,\n",
       " <folium.vector_layers.CircleMarker at 0x7f71d3a099e8>,\n",
       " <folium.vector_layers.CircleMarker at 0x7f71d3a09cf8>,\n",
       " <folium.vector_layers.CircleMarker at 0x7f71d3a09ef0>,\n",
       " <folium.vector_layers.CircleMarker at 0x7f71d3a09d68>,\n",
       " <folium.vector_layers.CircleMarker at 0x7f71d3a096d8>,\n",
       " <folium.vector_layers.CircleMarker at 0x7f71d3a09518>,\n",
       " <folium.vector_layers.CircleMarker at 0x7f71d3a09fd0>,\n",
       " <folium.vector_layers.CircleMarker at 0x7f71d3a09f28>,\n",
       " <folium.vector_layers.CircleMarker at 0x7f71d3a09b38>,\n",
       " <folium.vector_layers.CircleMarker at 0x7f71d3a09f60>,\n",
       " <folium.vector_layers.CircleMarker at 0x7f71d3a3d2e8>,\n",
       " <folium.vector_layers.CircleMarker at 0x7f71d3a3d978>,\n",
       " <folium.vector_layers.CircleMarker at 0x7f71d3a79f60>,\n",
       " <folium.vector_layers.CircleMarker at 0x7f71d3a3d3c8>,\n",
       " <folium.vector_layers.CircleMarker at 0x7f71d37bae48>,\n",
       " <folium.vector_layers.CircleMarker at 0x7f71d3a09160>,\n",
       " <folium.vector_layers.CircleMarker at 0x7f71d3a09048>,\n",
       " <folium.vector_layers.CircleMarker at 0x7f71d3a09c18>,\n",
       " <folium.vector_layers.CircleMarker at 0x7f71d3a09668>,\n",
       " <folium.vector_layers.CircleMarker at 0x7f71d3a097f0>,\n",
       " <folium.vector_layers.CircleMarker at 0x7f71d3a09a58>,\n",
       " <folium.vector_layers.CircleMarker at 0x7f71d3a09358>,\n",
       " <folium.vector_layers.CircleMarker at 0x7f71d3a090f0>,\n",
       " <folium.vector_layers.CircleMarker at 0x7f71d3a09978>,\n",
       " <folium.vector_layers.CircleMarker at 0x7f71d3a09b70>,\n",
       " <folium.vector_layers.CircleMarker at 0x7f71d3a09c88>,\n",
       " <folium.vector_layers.CircleMarker at 0x7f71d3a09400>,\n",
       " <folium.vector_layers.CircleMarker at 0x7f71d3a09a90>,\n",
       " <folium.vector_layers.CircleMarker at 0x7f71d3a095c0>,\n",
       " <folium.vector_layers.CircleMarker at 0x7f71d3a09cc0>,\n",
       " <folium.vector_layers.CircleMarker at 0x7f71d3a097b8>,\n",
       " <folium.vector_layers.CircleMarker at 0x7f71d39f54e0>,\n",
       " <folium.vector_layers.CircleMarker at 0x7f71d3a3dc50>,\n",
       " <folium.vector_layers.CircleMarker at 0x7f71d3a3dd68>,\n",
       " <folium.vector_layers.CircleMarker at 0x7f71d37baeb8>,\n",
       " <folium.vector_layers.CircleMarker at 0x7f71d3a09ba8>,\n",
       " <folium.vector_layers.CircleMarker at 0x7f71d3a094e0>,\n",
       " <folium.vector_layers.CircleMarker at 0x7f71d3a09e10>,\n",
       " <folium.vector_layers.CircleMarker at 0x7f71d3a09a20>,\n",
       " <folium.vector_layers.CircleMarker at 0x7f71d3a09780>,\n",
       " <folium.vector_layers.CircleMarker at 0x7f71d3a09630>,\n",
       " <folium.vector_layers.CircleMarker at 0x7f71d3a09da0>,\n",
       " <folium.vector_layers.CircleMarker at 0x7f71d3a096a0>,\n",
       " <folium.vector_layers.CircleMarker at 0x7f71d3a09eb8>,\n",
       " <folium.vector_layers.CircleMarker at 0x7f71d3a09b00>,\n",
       " <folium.vector_layers.CircleMarker at 0x7f71d3a09898>,\n",
       " <folium.vector_layers.CircleMarker at 0x7f71d39f5630>,\n",
       " <folium.vector_layers.CircleMarker at 0x7f71d39f56d8>,\n",
       " <folium.vector_layers.CircleMarker at 0x7f71d39f57f0>,\n",
       " <folium.vector_layers.CircleMarker at 0x7f71d39f5978>,\n",
       " <folium.vector_layers.CircleMarker at 0x7f71d39f5b70>,\n",
       " <folium.vector_layers.CircleMarker at 0x7f71d39f50f0>,\n",
       " <folium.vector_layers.CircleMarker at 0x7f71d39f53c8>,\n",
       " <folium.vector_layers.CircleMarker at 0x7f71d3a09be0>,\n",
       " <folium.vector_layers.CircleMarker at 0x7f71d3a091d0>,\n",
       " <folium.vector_layers.CircleMarker at 0x7f71d3a09390>,\n",
       " <folium.vector_layers.CircleMarker at 0x7f71d3a098d0>,\n",
       " <folium.vector_layers.CircleMarker at 0x7f71d3a09198>,\n",
       " <folium.vector_layers.CircleMarker at 0x7f71d3a3d898>,\n",
       " <folium.vector_layers.CircleMarker at 0x7f71d3a79c50>,\n",
       " <folium.vector_layers.CircleMarker at 0x7f71d3a09080>,\n",
       " <folium.vector_layers.CircleMarker at 0x7f71d3a09ac8>,\n",
       " <folium.vector_layers.CircleMarker at 0x7f71d3a3dda0>,\n",
       " <folium.vector_layers.CircleMarker at 0x7f71d39f5240>,\n",
       " <folium.vector_layers.CircleMarker at 0x7f71d39f5198>,\n",
       " <folium.vector_layers.CircleMarker at 0x7f71d39f5438>,\n",
       " <folium.vector_layers.CircleMarker at 0x7f71d39f55c0>,\n",
       " <folium.vector_layers.CircleMarker at 0x7f71d39f5c18>,\n",
       " <folium.vector_layers.CircleMarker at 0x7f71d39f5e10>,\n",
       " <folium.vector_layers.CircleMarker at 0x7f71d39f5ef0>,\n",
       " <folium.vector_layers.CircleMarker at 0x7f71d39f5c88>,\n",
       " <folium.vector_layers.CircleMarker at 0x7f71d39f50b8>,\n",
       " <folium.vector_layers.CircleMarker at 0x7f71d39f5668>,\n",
       " <folium.vector_layers.CircleMarker at 0x7f71d39f5a58>,\n",
       " <folium.vector_layers.CircleMarker at 0x7f71d39f55f8>,\n",
       " <folium.vector_layers.CircleMarker at 0x7f71d3a3de48>,\n",
       " <folium.vector_layers.CircleMarker at 0x7f71d3a09240>,\n",
       " <folium.vector_layers.CircleMarker at 0x7f71d3a09208>,\n",
       " <folium.vector_layers.CircleMarker at 0x7f71d3a09d30>,\n",
       " <folium.vector_layers.CircleMarker at 0x7f71d3a090b8>,\n",
       " <folium.vector_layers.CircleMarker at 0x7f71d3a09320>,\n",
       " <folium.vector_layers.CircleMarker at 0x7f71d39f5940>,\n",
       " <folium.vector_layers.CircleMarker at 0x7f71d39f52e8>,\n",
       " <folium.vector_layers.CircleMarker at 0x7f71d39f5d30>,\n",
       " <folium.vector_layers.CircleMarker at 0x7f71d39f52b0>,\n",
       " <folium.vector_layers.CircleMarker at 0x7f71d39f5828>,\n",
       " <folium.vector_layers.CircleMarker at 0x7f71d39f54a8>,\n",
       " <folium.vector_layers.CircleMarker at 0x7f71d39f5da0>,\n",
       " <folium.vector_layers.CircleMarker at 0x7f71d39f5f28>,\n",
       " <folium.vector_layers.CircleMarker at 0x7f71d39f5cc0>,\n",
       " <folium.vector_layers.CircleMarker at 0x7f71d39f57b8>,\n",
       " <folium.vector_layers.CircleMarker at 0x7f71d39f59e8>,\n",
       " <folium.vector_layers.CircleMarker at 0x7f71d39f56a0>,\n",
       " <folium.vector_layers.CircleMarker at 0x7f71d39f5908>,\n",
       " <folium.vector_layers.CircleMarker at 0x7f71d39f5080>,\n",
       " <folium.vector_layers.CircleMarker at 0x7f71d39f5320>,\n",
       " <folium.vector_layers.CircleMarker at 0x7f71d39f5c50>,\n",
       " <folium.vector_layers.CircleMarker at 0x7f71d3a79710>,\n",
       " <folium.vector_layers.CircleMarker at 0x7f71d3a09c50>,\n",
       " <folium.vector_layers.CircleMarker at 0x7f71d3a093c8>,\n",
       " <folium.vector_layers.CircleMarker at 0x7f71d38272b0>,\n",
       " <folium.vector_layers.CircleMarker at 0x7f71d3a09e48>,\n",
       " <folium.vector_layers.CircleMarker at 0x7f71d37ba860>,\n",
       " <folium.vector_layers.CircleMarker at 0x7f71d39f5be0>,\n",
       " <folium.vector_layers.CircleMarker at 0x7f71d39f5518>,\n",
       " <folium.vector_layers.CircleMarker at 0x7f71d39f5ba8>,\n",
       " <folium.vector_layers.CircleMarker at 0x7f71d39f5ac8>,\n",
       " <folium.vector_layers.CircleMarker at 0x7f71d39f5400>,\n",
       " <folium.vector_layers.CircleMarker at 0x7f71d39f58d0>,\n",
       " <folium.vector_layers.CircleMarker at 0x7f71d39f5cf8>,\n",
       " <folium.vector_layers.CircleMarker at 0x7f71d39f5278>,\n",
       " <folium.vector_layers.CircleMarker at 0x7f71d39f5e48>,\n",
       " <folium.vector_layers.CircleMarker at 0x7f71d39f5898>,\n",
       " <folium.vector_layers.CircleMarker at 0x7f71d39f5208>,\n",
       " <folium.vector_layers.CircleMarker at 0x7f71d39da588>,\n",
       " <folium.vector_layers.CircleMarker at 0x7f71d39da1d0>,\n",
       " <folium.vector_layers.CircleMarker at 0x7f71d39da5c0>,\n",
       " <folium.vector_layers.CircleMarker at 0x7f71d39da8d0>,\n",
       " <folium.vector_layers.CircleMarker at 0x7f71d39daac8>,\n",
       " <folium.vector_layers.CircleMarker at 0x7f71d39f5f60>,\n",
       " <folium.vector_layers.CircleMarker at 0x7f71d39f5b38>,\n",
       " <folium.vector_layers.CircleMarker at 0x7f71d39f5048>,\n",
       " <folium.vector_layers.CircleMarker at 0x7f71d39f5f98>,\n",
       " <folium.vector_layers.CircleMarker at 0x7f71d39f5358>,\n",
       " <folium.vector_layers.CircleMarker at 0x7f71d39f5470>,\n",
       " <folium.vector_layers.CircleMarker at 0x7f71d39f5a20>,\n",
       " <folium.vector_layers.CircleMarker at 0x7f71d3a3d240>,\n",
       " <folium.vector_layers.CircleMarker at 0x7f71d39f5d68>,\n",
       " <folium.vector_layers.CircleMarker at 0x7f71d3a09908>,\n",
       " <folium.vector_layers.CircleMarker at 0x7f71d3a09dd8>,\n",
       " <folium.vector_layers.CircleMarker at 0x7f71d39da7f0>,\n",
       " <folium.vector_layers.CircleMarker at 0x7f71d39dab70>,\n",
       " <folium.vector_layers.CircleMarker at 0x7f71d39da390>,\n",
       " <folium.vector_layers.CircleMarker at 0x7f71d39da9e8>,\n",
       " <folium.vector_layers.CircleMarker at 0x7f71d39da320>,\n",
       " <folium.vector_layers.CircleMarker at 0x7f71d39daba8>,\n",
       " <folium.vector_layers.CircleMarker at 0x7f71d39dad30>,\n",
       " <folium.vector_layers.CircleMarker at 0x7f71d39da4a8>,\n",
       " <folium.vector_layers.CircleMarker at 0x7f71d39da780>,\n",
       " <folium.vector_layers.CircleMarker at 0x7f71d39dae80>,\n",
       " <folium.vector_layers.CircleMarker at 0x7f71d39da908>,\n",
       " <folium.vector_layers.CircleMarker at 0x7f71d3a09438>,\n",
       " <folium.vector_layers.CircleMarker at 0x7f71d3a099b0>,\n",
       " <folium.vector_layers.CircleMarker at 0x7f71d39f5160>,\n",
       " <folium.vector_layers.CircleMarker at 0x7f71d39f59b0>,\n",
       " <folium.vector_layers.CircleMarker at 0x7f71d39f5550>,\n",
       " <folium.vector_layers.CircleMarker at 0x7f71d39f5588>,\n",
       " <folium.vector_layers.CircleMarker at 0x7f71d39f5780>,\n",
       " <folium.vector_layers.CircleMarker at 0x7f71d39dabe0>,\n",
       " <folium.vector_layers.CircleMarker at 0x7f71d39da400>,\n",
       " <folium.vector_layers.CircleMarker at 0x7f71d39da128>,\n",
       " <folium.vector_layers.CircleMarker at 0x7f71d39da6d8>,\n",
       " <folium.vector_layers.CircleMarker at 0x7f71d39da240>,\n",
       " <folium.vector_layers.CircleMarker at 0x7f71d39dae10>,\n",
       " <folium.vector_layers.CircleMarker at 0x7f71d39da470>,\n",
       " <folium.vector_layers.CircleMarker at 0x7f71d39da940>,\n",
       " <folium.vector_layers.CircleMarker at 0x7f71d39da208>,\n",
       " <folium.vector_layers.CircleMarker at 0x7f71d39da0f0>,\n",
       " <folium.vector_layers.CircleMarker at 0x7f71d39dac88>,\n",
       " <folium.vector_layers.CircleMarker at 0x7f71d39dafd0>,\n",
       " <folium.vector_layers.CircleMarker at 0x7f71d39da0b8>,\n",
       " <folium.vector_layers.CircleMarker at 0x7f71d39daa90>,\n",
       " <folium.vector_layers.CircleMarker at 0x7f71d39daeb8>,\n",
       " <folium.vector_layers.CircleMarker at 0x7f71d3a09940>,\n",
       " <folium.vector_layers.CircleMarker at 0x7f71d39f5fd0>,\n",
       " <folium.vector_layers.CircleMarker at 0x7f71d39f5b00>,\n",
       " <folium.vector_layers.CircleMarker at 0x7f71d39f5390>,\n",
       " <folium.vector_layers.CircleMarker at 0x7f71d3a09550>,\n",
       " <folium.vector_layers.CircleMarker at 0x7f71d39dacc0>,\n",
       " <folium.vector_layers.CircleMarker at 0x7f71d39da438>,\n",
       " <folium.vector_layers.CircleMarker at 0x7f71d39daf60>,\n",
       " <folium.vector_layers.CircleMarker at 0x7f71d39da898>,\n",
       " <folium.vector_layers.CircleMarker at 0x7f71d39da550>,\n",
       " <folium.vector_layers.CircleMarker at 0x7f71d39da358>,\n",
       " <folium.vector_layers.CircleMarker at 0x7f71d39da748>,\n",
       " <folium.vector_layers.CircleMarker at 0x7f71d39daf98>,\n",
       " <folium.vector_layers.CircleMarker at 0x7f71d39da278>,\n",
       " <folium.vector_layers.CircleMarker at 0x7f71d39dac50>,\n",
       " <folium.vector_layers.CircleMarker at 0x7f71d39da4e0>,\n",
       " <folium.vector_layers.CircleMarker at 0x7f71d3972128>,\n",
       " <folium.vector_layers.CircleMarker at 0x7f71d3972668>,\n",
       " <folium.vector_layers.CircleMarker at 0x7f71d3972400>,\n",
       " <folium.vector_layers.CircleMarker at 0x7f71d39725f8>,\n",
       " <folium.vector_layers.CircleMarker at 0x7f71d3972908>,\n",
       " <folium.vector_layers.CircleMarker at 0x7f71d3972b00>,\n",
       " <folium.vector_layers.CircleMarker at 0x7f71d39da5f8>,\n",
       " <folium.vector_layers.CircleMarker at 0x7f71d39da048>,\n",
       " <folium.vector_layers.CircleMarker at 0x7f71d39daa20>,\n",
       " <folium.vector_layers.CircleMarker at 0x7f71d39da7b8>,\n",
       " <folium.vector_layers.CircleMarker at 0x7f71d39dacf8>,\n",
       " <folium.vector_layers.CircleMarker at 0x7f71d39dac18>,\n",
       " <folium.vector_layers.CircleMarker at 0x7f71d39f5e80>,\n",
       " <folium.vector_layers.CircleMarker at 0x7f71d39f5710>,\n",
       " <folium.vector_layers.CircleMarker at 0x7f71d39daef0>,\n",
       " <folium.vector_layers.CircleMarker at 0x7f71d3a09828>,\n",
       " <folium.vector_layers.CircleMarker at 0x7f71d39daa58>,\n",
       " <folium.vector_layers.CircleMarker at 0x7f71d3972390>,\n",
       " <folium.vector_layers.CircleMarker at 0x7f71d3972ba8>,\n",
       " <folium.vector_layers.CircleMarker at 0x7f71d3972240>,\n",
       " <folium.vector_layers.CircleMarker at 0x7f71d3972ac8>,\n",
       " <folium.vector_layers.CircleMarker at 0x7f71d3972320>,\n",
       " <folium.vector_layers.CircleMarker at 0x7f71d3972c50>,\n",
       " <folium.vector_layers.CircleMarker at 0x7f71d3972da0>,\n",
       " <folium.vector_layers.CircleMarker at 0x7f71d3972f98>,\n",
       " <folium.vector_layers.CircleMarker at 0x7f71d3972be0>,\n",
       " <folium.vector_layers.CircleMarker at 0x7f71d3972a90>,\n",
       " <folium.vector_layers.CircleMarker at 0x7f71d3972940>,\n",
       " <folium.vector_layers.CircleMarker at 0x7f71d39f5860>,\n",
       " <folium.vector_layers.CircleMarker at 0x7f71d39f5dd8>,\n",
       " <folium.vector_layers.CircleMarker at 0x7f71d39dada0>,\n",
       " <folium.vector_layers.CircleMarker at 0x7f71d39da828>,\n",
       " <folium.vector_layers.CircleMarker at 0x7f71d39da2b0>,\n",
       " <folium.vector_layers.CircleMarker at 0x7f71d39daf28>,\n",
       " <folium.vector_layers.CircleMarker at 0x7f71d39dadd8>,\n",
       " <folium.vector_layers.CircleMarker at 0x7f71d3972b38>,\n",
       " <folium.vector_layers.CircleMarker at 0x7f71d3972518>,\n",
       " <folium.vector_layers.CircleMarker at 0x7f71d3972a58>,\n",
       " <folium.vector_layers.CircleMarker at 0x7f71d3972080>,\n",
       " <folium.vector_layers.CircleMarker at 0x7f71d3972358>,\n",
       " <folium.vector_layers.CircleMarker at 0x7f71d3972a20>,\n",
       " <folium.vector_layers.CircleMarker at 0x7f71d3972d68>,\n",
       " <folium.vector_layers.CircleMarker at 0x7f71d39728d0>,\n",
       " <folium.vector_layers.CircleMarker at 0x7f71d39721d0>,\n",
       " <folium.vector_layers.CircleMarker at 0x7f71d3972dd8>,\n",
       " <folium.vector_layers.CircleMarker at 0x7f71d39723c8>,\n",
       " <folium.vector_layers.CircleMarker at 0x7f71d3972cf8>,\n",
       " <folium.vector_layers.CircleMarker at 0x7f71d39720f0>,\n",
       " <folium.vector_layers.CircleMarker at 0x7f71d3972c88>,\n",
       " <folium.vector_layers.CircleMarker at 0x7f71d39f5eb8>,\n",
       " <folium.vector_layers.CircleMarker at 0x7f71d39da2e8>,\n",
       " <folium.vector_layers.CircleMarker at 0x7f71d39da3c8>,\n",
       " <folium.vector_layers.CircleMarker at 0x7f71d39da160>,\n",
       " <folium.vector_layers.CircleMarker at 0x7f71d39dab00>,\n",
       " <folium.vector_layers.CircleMarker at 0x7f71d3972898>,\n",
       " <folium.vector_layers.CircleMarker at 0x7f71d39724a8>,\n",
       " <folium.vector_layers.CircleMarker at 0x7f71d3972748>,\n",
       " <folium.vector_layers.CircleMarker at 0x7f71d3972978>,\n",
       " <folium.vector_layers.CircleMarker at 0x7f71d3972710>,\n",
       " <folium.vector_layers.CircleMarker at 0x7f71d39727f0>,\n",
       " <folium.vector_layers.CircleMarker at 0x7f71d3972828>,\n",
       " <folium.vector_layers.CircleMarker at 0x7f71d3972208>,\n",
       " <folium.vector_layers.CircleMarker at 0x7f71d3972438>,\n",
       " <folium.vector_layers.CircleMarker at 0x7f71d3957080>,\n",
       " <folium.vector_layers.CircleMarker at 0x7f71d39727b8>,\n",
       " <folium.vector_layers.CircleMarker at 0x7f71d3972e80>,\n",
       " <folium.vector_layers.CircleMarker at 0x7f71d399a080>,\n",
       " <folium.vector_layers.CircleMarker at 0x7f71d399a2e8>,\n",
       " <folium.vector_layers.CircleMarker at 0x7f71d399a710>,\n",
       " <folium.vector_layers.CircleMarker at 0x7f71d399a898>,\n",
       " <folium.vector_layers.CircleMarker at 0x7f71d399aa90>,\n",
       " <folium.vector_layers.CircleMarker at 0x7f71d3972198>,\n",
       " <folium.vector_layers.CircleMarker at 0x7f71d39722e8>,\n",
       " <folium.vector_layers.CircleMarker at 0x7f71d3972b70>,\n",
       " <folium.vector_layers.CircleMarker at 0x7f71d3972f28>,\n",
       " <folium.vector_layers.CircleMarker at 0x7f71d3972630>,\n",
       " <folium.vector_layers.CircleMarker at 0x7f71d39729e8>,\n",
       " <folium.vector_layers.CircleMarker at 0x7f71d39da518>,\n",
       " <folium.vector_layers.CircleMarker at 0x7f71d39f5a90>,\n",
       " <folium.vector_layers.CircleMarker at 0x7f71d3a09f98>,\n",
       " <folium.vector_layers.CircleMarker at 0x7f71d3972278>,\n",
       " <folium.vector_layers.CircleMarker at 0x7f71d39da6a0>,\n",
       " <folium.vector_layers.CircleMarker at 0x7f71d399a748>,\n",
       " <folium.vector_layers.CircleMarker at 0x7f71d399a8d0>,\n",
       " <folium.vector_layers.CircleMarker at 0x7f71d399a518>,\n",
       " <folium.vector_layers.CircleMarker at 0x7f71d399a908>,\n",
       " <folium.vector_layers.CircleMarker at 0x7f71d399a390>,\n",
       " <folium.vector_layers.CircleMarker at 0x7f71d399aa20>,\n",
       " <folium.vector_layers.CircleMarker at 0x7f71d399ad30>,\n",
       " <folium.vector_layers.CircleMarker at 0x7f71d399af28>,\n",
       " <folium.vector_layers.CircleMarker at 0x7f71d399ada0>,\n",
       " <folium.vector_layers.CircleMarker at 0x7f71d399a198>,\n",
       " <folium.vector_layers.CircleMarker at 0x7f71d399a1d0>,\n",
       " <folium.vector_layers.CircleMarker at 0x7f71d39da630>,\n",
       " <folium.vector_layers.CircleMarker at 0x7f71d3972e10>,\n",
       " <folium.vector_layers.CircleMarker at 0x7f71d3972780>,\n",
       " <folium.vector_layers.CircleMarker at 0x7f71d3972cc0>,\n",
       " <folium.vector_layers.CircleMarker at 0x7f71d3972048>,\n",
       " <folium.vector_layers.CircleMarker at 0x7f71d3972e48>,\n",
       " <folium.vector_layers.CircleMarker at 0x7f71d3972860>,\n",
       " <folium.vector_layers.CircleMarker at 0x7f71d399aba8>,\n",
       " <folium.vector_layers.CircleMarker at 0x7f71d399a3c8>,\n",
       " <folium.vector_layers.CircleMarker at 0x7f71d399a2b0>,\n",
       " <folium.vector_layers.CircleMarker at 0x7f71d399a4e0>,\n",
       " <folium.vector_layers.CircleMarker at 0x7f71d399a160>,\n",
       " <folium.vector_layers.CircleMarker at 0x7f71d399a9b0>,\n",
       " <folium.vector_layers.CircleMarker at 0x7f71d399ac88>,\n",
       " <folium.vector_layers.CircleMarker at 0x7f71d399aeb8>,\n",
       " <folium.vector_layers.CircleMarker at 0x7f71d399a5f8>,\n",
       " <folium.vector_layers.CircleMarker at 0x7f71d399ae48>,\n",
       " <folium.vector_layers.CircleMarker at 0x7f71d399acc0>,\n",
       " <folium.vector_layers.CircleMarker at 0x7f71d399a128>,\n",
       " <folium.vector_layers.CircleMarker at 0x7f71d399a5c0>,\n",
       " <folium.vector_layers.CircleMarker at 0x7f71d399a780>,\n",
       " <folium.vector_layers.CircleMarker at 0x7f71d399acf8>,\n",
       " <folium.vector_layers.CircleMarker at 0x7f71d39da668>,\n",
       " <folium.vector_layers.CircleMarker at 0x7f71d39722b0>,\n",
       " <folium.vector_layers.CircleMarker at 0x7f71d39725c0>,\n",
       " <folium.vector_layers.CircleMarker at 0x7f71d3972160>,\n",
       " <folium.vector_layers.CircleMarker at 0x7f71d3972eb8>,\n",
       " <folium.vector_layers.CircleMarker at 0x7f71d399ab00>,\n",
       " <folium.vector_layers.CircleMarker at 0x7f71d399a0f0>,\n",
       " <folium.vector_layers.CircleMarker at 0x7f71d399a588>,\n",
       " <folium.vector_layers.CircleMarker at 0x7f71d399a7b8>,\n",
       " <folium.vector_layers.CircleMarker at 0x7f71d399a550>,\n",
       " <folium.vector_layers.CircleMarker at 0x7f71d399a470>,\n",
       " <folium.vector_layers.CircleMarker at 0x7f71d399afd0>,\n",
       " <folium.vector_layers.CircleMarker at 0x7f71d399af60>,\n",
       " <folium.vector_layers.CircleMarker at 0x7f71d399a828>,\n",
       " <folium.vector_layers.CircleMarker at 0x7f71d399ac50>,\n",
       " <folium.vector_layers.CircleMarker at 0x7f71d399a0b8>,\n",
       " <folium.vector_layers.CircleMarker at 0x7f71d3930198>,\n",
       " <folium.vector_layers.CircleMarker at 0x7f71d3930048>,\n",
       " <folium.vector_layers.CircleMarker at 0x7f71d3930588>,\n",
       " <folium.vector_layers.CircleMarker at 0x7f71d39305f8>,\n",
       " <folium.vector_layers.CircleMarker at 0x7f71d3930828>,\n",
       " <folium.vector_layers.CircleMarker at 0x7f71d3930978>,\n",
       " <folium.vector_layers.CircleMarker at 0x7f71d399ab38>,\n",
       " <folium.vector_layers.CircleMarker at 0x7f71d399a048>,\n",
       " <folium.vector_layers.CircleMarker at 0x7f71d399a9e8>,\n",
       " <folium.vector_layers.CircleMarker at 0x7f71d399ae10>,\n",
       " <folium.vector_layers.CircleMarker at 0x7f71d399ab70>,\n",
       " <folium.vector_layers.CircleMarker at 0x7f71d399ae80>,\n",
       " <folium.vector_layers.CircleMarker at 0x7f71d3972c18>,\n",
       " <folium.vector_layers.CircleMarker at 0x7f71d3972f60>,\n",
       " <folium.vector_layers.CircleMarker at 0x7f71d39dae48>,\n",
       " <folium.vector_layers.CircleMarker at 0x7f71d399add8>,\n",
       " <folium.vector_layers.CircleMarker at 0x7f71d3972470>,\n",
       " <folium.vector_layers.CircleMarker at 0x7f71d39304a8>,\n",
       " <folium.vector_layers.CircleMarker at 0x7f71d3930a20>,\n",
       " <folium.vector_layers.CircleMarker at 0x7f71d39302b0>,\n",
       " <folium.vector_layers.CircleMarker at 0x7f71d3930ac8>,\n",
       " <folium.vector_layers.CircleMarker at 0x7f71d39309b0>,\n",
       " <folium.vector_layers.CircleMarker at 0x7f71d3930208>,\n",
       " <folium.vector_layers.CircleMarker at 0x7f71d39304e0>,\n",
       " <folium.vector_layers.CircleMarker at 0x7f71d3930e80>,\n",
       " <folium.vector_layers.CircleMarker at 0x7f71d3930ef0>,\n",
       " <folium.vector_layers.CircleMarker at 0x7f71d3930080>,\n",
       " <folium.vector_layers.CircleMarker at 0x7f71d39720b8>,\n",
       " <folium.vector_layers.CircleMarker at 0x7f71d39726d8>,\n",
       " <folium.vector_layers.CircleMarker at 0x7f71d399a860>,\n",
       " <folium.vector_layers.CircleMarker at 0x7f71d399a320>,\n",
       " <folium.vector_layers.CircleMarker at 0x7f71d399a240>,\n",
       " <folium.vector_layers.CircleMarker at 0x7f71d399af98>,\n",
       " <folium.vector_layers.CircleMarker at 0x7f71d399ac18>,\n",
       " <folium.vector_layers.CircleMarker at 0x7f71d3930eb8>,\n",
       " <folium.vector_layers.CircleMarker at 0x7f71d3930320>,\n",
       " <folium.vector_layers.CircleMarker at 0x7f71d3930940>,\n",
       " <folium.vector_layers.CircleMarker at 0x7f71d3930358>,\n",
       " <folium.vector_layers.CircleMarker at 0x7f71d3930400>,\n",
       " <folium.vector_layers.CircleMarker at 0x7f71d3930ba8>,\n",
       " <folium.vector_layers.CircleMarker at 0x7f71d3930390>,\n",
       " <folium.vector_layers.CircleMarker at 0x7f71d3930518>,\n",
       " <folium.vector_layers.CircleMarker at 0x7f71d39307b8>,\n",
       " <folium.vector_layers.CircleMarker at 0x7f71d3930dd8>,\n",
       " <folium.vector_layers.CircleMarker at 0x7f71d3930748>,\n",
       " <folium.vector_layers.CircleMarker at 0x7f71d3930fd0>,\n",
       " <folium.vector_layers.CircleMarker at 0x7f71d3930da0>,\n",
       " <folium.vector_layers.CircleMarker at 0x7f71d3930b38>,\n",
       " <folium.vector_layers.CircleMarker at 0x7f71d3930240>,\n",
       " <folium.vector_layers.CircleMarker at 0x7f71d39301d0>,\n",
       " <folium.vector_layers.CircleMarker at 0x7f71d3930898>,\n",
       " <folium.vector_layers.CircleMarker at 0x7f71d3930b70>,\n",
       " <folium.vector_layers.CircleMarker at 0x7f71d3930278>,\n",
       " <folium.vector_layers.CircleMarker at 0x7f71d39308d0>,\n",
       " <folium.vector_layers.CircleMarker at 0x7f71d3930c18>,\n",
       " <folium.vector_layers.CircleMarker at 0x7f71d3930780>,\n",
       " <folium.vector_layers.CircleMarker at 0x7f71d3930c88>,\n",
       " <folium.vector_layers.CircleMarker at 0x7f71d39306d8>,\n",
       " <folium.vector_layers.CircleMarker at 0x7f71d39306a0>,\n",
       " <folium.vector_layers.CircleMarker at 0x7f71d399a6a0>,\n",
       " <folium.vector_layers.CircleMarker at 0x7f71d399a400>,\n",
       " <folium.vector_layers.CircleMarker at 0x7f71d399a940>,\n",
       " <folium.vector_layers.CircleMarker at 0x7f71d39724e0>,\n",
       " <folium.vector_layers.CircleMarker at 0x7f71d3a095f8>,\n",
       " <folium.vector_layers.CircleMarker at 0x7f71d39f5748>,\n",
       " <folium.vector_layers.CircleMarker at 0x7f71d399abe0>,\n",
       " <folium.vector_layers.CircleMarker at 0x7f71d39da080>,\n",
       " <folium.vector_layers.CircleMarker at 0x7f71d39da978>,\n",
       " <folium.vector_layers.CircleMarker at 0x7f71d39729b0>,\n",
       " <folium.vector_layers.CircleMarker at 0x7f71d39424e0>,\n",
       " <folium.vector_layers.CircleMarker at 0x7f71d3942780>,\n",
       " <folium.vector_layers.CircleMarker at 0x7f71d39726a0>,\n",
       " <folium.vector_layers.CircleMarker at 0x7f71d39dad68>,\n",
       " <folium.vector_layers.CircleMarker at 0x7f71d3972588>,\n",
       " <folium.vector_layers.CircleMarker at 0x7f71d399a278>,\n",
       " <folium.vector_layers.CircleMarker at 0x7f71d399a6d8>,\n",
       " <folium.vector_layers.CircleMarker at 0x7f71d399a358>,\n",
       " <folium.vector_layers.CircleMarker at 0x7f71d399a978>,\n",
       " <folium.vector_layers.CircleMarker at 0x7f71d3930cc0>,\n",
       " <folium.vector_layers.CircleMarker at 0x7f71d39300f0>,\n",
       " <folium.vector_layers.CircleMarker at 0x7f71d3930668>,\n",
       " <folium.vector_layers.CircleMarker at 0x7f71d3930630>,\n",
       " <folium.vector_layers.CircleMarker at 0x7f71d3930a90>,\n",
       " <folium.vector_layers.CircleMarker at 0x7f71d39300b8>,\n",
       " <folium.vector_layers.CircleMarker at 0x7f71d39426a0>,\n",
       " <folium.vector_layers.CircleMarker at 0x7f71d3942550>,\n",
       " <folium.vector_layers.CircleMarker at 0x7f71d3942828>,\n",
       " <folium.vector_layers.CircleMarker at 0x7f71d3942978>,\n",
       " <folium.vector_layers.CircleMarker at 0x7f71d3942b70>,\n",
       " <folium.vector_layers.CircleMarker at 0x7f71d3942b00>,\n",
       " <folium.vector_layers.CircleMarker at 0x7f71d3942208>,\n",
       " <folium.vector_layers.CircleMarker at 0x7f71d3942080>,\n",
       " <folium.vector_layers.CircleMarker at 0x7f71d3942dd8>,\n",
       " <folium.vector_layers.CircleMarker at 0x7f71d3930e48>,\n",
       " <folium.vector_layers.CircleMarker at 0x7f71d3930a58>,\n",
       " <folium.vector_layers.CircleMarker at 0x7f71d399a438>,\n",
       " <folium.vector_layers.CircleMarker at 0x7f71d3930c50>,\n",
       " <folium.vector_layers.CircleMarker at 0x7f71d3930f60>,\n",
       " <folium.vector_layers.CircleMarker at 0x7f71d399a630>,\n",
       " <folium.vector_layers.CircleMarker at 0x7f71d3972ef0>,\n",
       " <folium.vector_layers.CircleMarker at 0x7f71d39da860>,\n",
       " <folium.vector_layers.CircleMarker at 0x7f71d399a4a8>,\n",
       " <folium.vector_layers.CircleMarker at 0x7f71d3942a20>,\n",
       " <folium.vector_layers.CircleMarker at 0x7f71d3942400>,\n",
       " <folium.vector_layers.CircleMarker at 0x7f71d3942588>,\n",
       " <folium.vector_layers.CircleMarker at 0x7f71d3942e10>,\n",
       " <folium.vector_layers.CircleMarker at 0x7f71d3942ac8>,\n",
       " <folium.vector_layers.CircleMarker at 0x7f71d3942cf8>,\n",
       " <folium.vector_layers.CircleMarker at 0x7f71d3942e48>,\n",
       " <folium.vector_layers.CircleMarker at 0x7f71d3942358>,\n",
       " <folium.vector_layers.CircleMarker at 0x7f71d3942320>,\n",
       " <folium.vector_layers.CircleMarker at 0x7f71d3942ef0>,\n",
       " <folium.vector_layers.CircleMarker at 0x7f71d3942cc0>,\n",
       " <folium.vector_layers.CircleMarker at 0x7f71d38b8630>,\n",
       " <folium.vector_layers.CircleMarker at 0x7f71d38b8898>,\n",
       " <folium.vector_layers.CircleMarker at 0x7f71d39429e8>,\n",
       " <folium.vector_layers.CircleMarker at 0x7f71d3942f98>,\n",
       " <folium.vector_layers.CircleMarker at 0x7f71d3942128>,\n",
       " <folium.vector_layers.CircleMarker at 0x7f71d3942160>,\n",
       " <folium.vector_layers.CircleMarker at 0x7f71d39da198>,\n",
       " <folium.vector_layers.CircleMarker at 0x7f71d39420f0>,\n",
       " <folium.vector_layers.CircleMarker at 0x7f71d3972d30>,\n",
       " <folium.vector_layers.CircleMarker at 0x7f71d3942048>,\n",
       " <folium.vector_layers.CircleMarker at 0x7f71d3942f28>,\n",
       " <folium.vector_layers.CircleMarker at 0x7f71d399a7f0>,\n",
       " <folium.vector_layers.CircleMarker at 0x7f71d39427f0>,\n",
       " <folium.vector_layers.CircleMarker at 0x7f71d3930f28>,\n",
       " <folium.vector_layers.CircleMarker at 0x7f71d38b84e0>,\n",
       " <folium.vector_layers.CircleMarker at 0x7f71d3930710>,\n",
       " <folium.vector_layers.CircleMarker at 0x7f71d38b8908>,\n",
       " <folium.vector_layers.CircleMarker at 0x7f71d38b8940>,\n",
       " <folium.vector_layers.CircleMarker at 0x7f71d37d0d68>,\n",
       " <folium.vector_layers.CircleMarker at 0x7f71d37d0be0>,\n",
       " <folium.vector_layers.CircleMarker at 0x7f71d37d0f60>,\n",
       " <folium.vector_layers.CircleMarker at 0x7f71d37d0438>,\n",
       " <folium.vector_layers.CircleMarker at 0x7f71d37d0ac8>,\n",
       " <folium.vector_layers.CircleMarker at 0x7f71d37d06a0>,\n",
       " <folium.vector_layers.CircleMarker at 0x7f71d3930160>,\n",
       " <folium.vector_layers.CircleMarker at 0x7f71d3972fd0>,\n",
       " <folium.vector_layers.CircleMarker at 0x7f71d39da710>,\n",
       " <folium.vector_layers.CircleMarker at 0x7f71d3930d68>,\n",
       " <folium.vector_layers.CircleMarker at 0x7f71d38b8828>,\n",
       " <folium.vector_layers.CircleMarker at 0x7f71d399aef0>,\n",
       " <folium.vector_layers.CircleMarker at 0x7f71d3942ba8>,\n",
       " <folium.vector_layers.CircleMarker at 0x7f71d39422e8>,\n",
       " <folium.vector_layers.CircleMarker at 0x7f71d3942860>,\n",
       " <folium.vector_layers.CircleMarker at 0x7f71d3942198>,\n",
       " <folium.vector_layers.CircleMarker at 0x7f71d37d09e8>,\n",
       " <folium.vector_layers.CircleMarker at 0x7f71d39423c8>,\n",
       " <folium.vector_layers.CircleMarker at 0x7f71d37d0e80>,\n",
       " <folium.vector_layers.CircleMarker at 0x7f71d37d0198>,\n",
       " <folium.vector_layers.CircleMarker at 0x7f71d37e3550>,\n",
       " <folium.vector_layers.CircleMarker at 0x7f71d37e33c8>,\n",
       " <folium.vector_layers.CircleMarker at 0x7f71d37e30f0>,\n",
       " <folium.vector_layers.CircleMarker at 0x7f71d37e3358>,\n",
       " <folium.vector_layers.CircleMarker at 0x7f71d37e3240>,\n",
       " <folium.vector_layers.CircleMarker at 0x7f71d37e38d0>,\n",
       " <folium.vector_layers.CircleMarker at 0x7f71d37e3908>,\n",
       " <folium.vector_layers.CircleMarker at 0x7f71d37e37f0>,\n",
       " <folium.vector_layers.CircleMarker at 0x7f71d37d0fd0>,\n",
       " <folium.vector_layers.CircleMarker at 0x7f71d37d08d0>,\n",
       " <folium.vector_layers.CircleMarker at 0x7f71d3942438>,\n",
       " <folium.vector_layers.CircleMarker at 0x7f71d3942b38>,\n",
       " <folium.vector_layers.CircleMarker at 0x7f71d399a668>,\n",
       " <folium.vector_layers.CircleMarker at 0x7f71d38b81d0>,\n",
       " <folium.vector_layers.CircleMarker at 0x7f71d3930550>,\n",
       " <folium.vector_layers.CircleMarker at 0x7f71d38b82e8>,\n",
       " <folium.vector_layers.CircleMarker at 0x7f71d3930e10>,\n",
       " <folium.vector_layers.CircleMarker at 0x7f71d37e3898>,\n",
       " <folium.vector_layers.CircleMarker at 0x7f71d37e3588>,\n",
       " <folium.vector_layers.CircleMarker at 0x7f71d37e32e8>,\n",
       " <folium.vector_layers.CircleMarker at 0x7f71d37e3198>,\n",
       " <folium.vector_layers.CircleMarker at 0x7f71d37e3400>,\n",
       " <folium.vector_layers.CircleMarker at 0x7f71d37e39b0>,\n",
       " <folium.vector_layers.CircleMarker at 0x7f71d37e3a90>,\n",
       " <folium.vector_layers.CircleMarker at 0x7f71d37e3b38>,\n",
       " <folium.vector_layers.CircleMarker at 0x7f71d37e3be0>,\n",
       " <folium.vector_layers.CircleMarker at 0x7f71d37e3c88>,\n",
       " <folium.vector_layers.CircleMarker at 0x7f71d37e3d30>,\n",
       " <folium.vector_layers.CircleMarker at 0x7f71d37e3dd8>,\n",
       " <folium.vector_layers.CircleMarker at 0x7f71d37e3e80>,\n",
       " <folium.vector_layers.CircleMarker at 0x7f71d399ad68>,\n",
       " <folium.vector_layers.CircleMarker at 0x7f71d3930470>,\n",
       " <folium.vector_layers.CircleMarker at 0x7f71d37d0080>,\n",
       " <folium.vector_layers.CircleMarker at 0x7f71d3942c18>,\n",
       " <folium.vector_layers.CircleMarker at 0x7f71d3942710>,\n",
       " <folium.vector_layers.CircleMarker at 0x7f71d37d0780>,\n",
       " <folium.vector_layers.CircleMarker at 0x7f71d37e3d68>,\n",
       " <folium.vector_layers.CircleMarker at 0x7f71d37e3780>,\n",
       " <folium.vector_layers.CircleMarker at 0x7f71d37e3a20>,\n",
       " <folium.vector_layers.CircleMarker at 0x7f71d37e3048>,\n",
       " <folium.vector_layers.CircleMarker at 0x7f71d37e35f8>,\n",
       " <folium.vector_layers.CircleMarker at 0x7f71d37e32b0>,\n",
       " <folium.vector_layers.CircleMarker at 0x7f71d37e3b00>,\n",
       " <folium.vector_layers.CircleMarker at 0x7f71d37e3e48>,\n",
       " <folium.vector_layers.CircleMarker at 0x7f71d37e3f60>,\n",
       " <folium.vector_layers.CircleMarker at 0x7f71d37e3f98>,\n",
       " <folium.vector_layers.CircleMarker at 0x7f71d37e3ba8>,\n",
       " <folium.vector_layers.CircleMarker at 0x7f71d37e3eb8>,\n",
       " <folium.vector_layers.CircleMarker at 0x7f71d37e3940>,\n",
       " <folium.vector_layers.CircleMarker at 0x7f71d39b01d0>,\n",
       " <folium.vector_layers.CircleMarker at 0x7f71d39b02e8>,\n",
       " <folium.vector_layers.CircleMarker at 0x7f71d3942940>,\n",
       " <folium.vector_layers.CircleMarker at 0x7f71d39302e8>,\n",
       " <folium.vector_layers.CircleMarker at 0x7f71d38b8710>,\n",
       " <folium.vector_layers.CircleMarker at 0x7f71d37d0e48>,\n",
       " <folium.vector_layers.CircleMarker at 0x7f71d3942c50>,\n",
       " <folium.vector_layers.CircleMarker at 0x7f71d37e3f28>,\n",
       " <folium.vector_layers.CircleMarker at 0x7f71d37e3630>,\n",
       " <folium.vector_layers.CircleMarker at 0x7f71d37e3320>,\n",
       " <folium.vector_layers.CircleMarker at 0x7f71d37e3160>,\n",
       " <folium.vector_layers.CircleMarker at 0x7f71d37e3c18>,\n",
       " <folium.vector_layers.CircleMarker at 0x7f71d37e3e10>,\n",
       " <folium.vector_layers.CircleMarker at 0x7f71d37e3ac8>,\n",
       " <folium.vector_layers.CircleMarker at 0x7f71d37e3cc0>,\n",
       " <folium.vector_layers.CircleMarker at 0x7f71d39b0128>,\n",
       " <folium.vector_layers.CircleMarker at 0x7f71d39b0358>,\n",
       " <folium.vector_layers.CircleMarker at 0x7f71d39b0438>,\n",
       " <folium.vector_layers.CircleMarker at 0x7f71d39b04e0>,\n",
       " <folium.vector_layers.CircleMarker at 0x7f71d39b0588>,\n",
       " <folium.vector_layers.CircleMarker at 0x7f71d39b0630>,\n",
       " <folium.vector_layers.CircleMarker at 0x7f71d39b06d8>,\n",
       " <folium.vector_layers.CircleMarker at 0x7f71d39b0780>,\n",
       " <folium.vector_layers.CircleMarker at 0x7f71d39b0828>,\n",
       " <folium.vector_layers.CircleMarker at 0x7f71d37e3860>,\n",
       " <folium.vector_layers.CircleMarker at 0x7f71d37e36a0>,\n",
       " <folium.vector_layers.CircleMarker at 0x7f71d37d0278>,\n",
       " <folium.vector_layers.CircleMarker at 0x7f71d37e3828>,\n",
       " <folium.vector_layers.CircleMarker at 0x7f71d37e3da0>,\n",
       " <folium.vector_layers.CircleMarker at 0x7f71d38b89e8>,\n",
       " <folium.vector_layers.CircleMarker at 0x7f71d3942240>,\n",
       " <folium.vector_layers.CircleMarker at 0x7f71d37e3cf8>,\n",
       " <folium.vector_layers.CircleMarker at 0x7f71d39b0710>,\n",
       " <folium.vector_layers.CircleMarker at 0x7f71d39b0048>,\n",
       " <folium.vector_layers.CircleMarker at 0x7f71d39b0390>,\n",
       " <folium.vector_layers.CircleMarker at 0x7f71d39b0320>,\n",
       " <folium.vector_layers.CircleMarker at 0x7f71d39b0860>,\n",
       " <folium.vector_layers.CircleMarker at 0x7f71d39b0550>,\n",
       " <folium.vector_layers.CircleMarker at 0x7f71d39b0898>,\n",
       " <folium.vector_layers.CircleMarker at 0x7f71d39b0978>,\n",
       " <folium.vector_layers.CircleMarker at 0x7f71d39b0a20>,\n",
       " <folium.vector_layers.CircleMarker at 0x7f71d39b0ac8>,\n",
       " <folium.vector_layers.CircleMarker at 0x7f71d39b0b70>,\n",
       " <folium.vector_layers.CircleMarker at 0x7f71d39b0c18>,\n",
       " <folium.vector_layers.CircleMarker at 0x7f71d39b0cc0>,\n",
       " <folium.vector_layers.CircleMarker at 0x7f71d39b0d68>,\n",
       " <folium.vector_layers.CircleMarker at 0x7f71d37d0940>,\n",
       " <folium.vector_layers.CircleMarker at 0x7f71d37e3ef0>,\n",
       " <folium.vector_layers.CircleMarker at 0x7f71d3942898>,\n",
       " <folium.vector_layers.CircleMarker at 0x7f71d37e3390>,\n",
       " <folium.vector_layers.CircleMarker at 0x7f71d37e3a58>,\n",
       " <folium.vector_layers.CircleMarker at 0x7f71d39b0c50>,\n",
       " <folium.vector_layers.CircleMarker at 0x7f71d39b00b8>,\n",
       " <folium.vector_layers.CircleMarker at 0x7f71d39b0908>,\n",
       " <folium.vector_layers.CircleMarker at 0x7f71d39b0240>,\n",
       " <folium.vector_layers.CircleMarker at 0x7f71d39b0160>,\n",
       " <folium.vector_layers.CircleMarker at 0x7f71d39b0470>,\n",
       " <folium.vector_layers.CircleMarker at 0x7f71d39b0668>,\n",
       " <folium.vector_layers.CircleMarker at 0x7f71d39b0da0>,\n",
       " <folium.vector_layers.CircleMarker at 0x7f71d39b0a90>,\n",
       " <folium.vector_layers.CircleMarker at 0x7f71d39b0dd8>,\n",
       " <folium.vector_layers.CircleMarker at 0x7f71d39b0eb8>,\n",
       " <folium.vector_layers.CircleMarker at 0x7f71d39b0f60>,\n",
       " <folium.vector_layers.CircleMarker at 0x7f71d39b0b38>,\n",
       " <folium.vector_layers.CircleMarker at 0x7f71d39b0c88>,\n",
       " <folium.vector_layers.CircleMarker at 0x7f71d39b0e10>,\n",
       " <folium.vector_layers.CircleMarker at 0x7f71d39c41d0>,\n",
       " <folium.vector_layers.CircleMarker at 0x7f71d39c42e8>,\n",
       " <folium.vector_layers.CircleMarker at 0x7f71d39b0198>,\n",
       " <folium.vector_layers.CircleMarker at 0x7f71d39b0d30>,\n",
       " <folium.vector_layers.CircleMarker at 0x7f71d39b0748>,\n",
       " <folium.vector_layers.CircleMarker at 0x7f71d39b0278>,\n",
       " <folium.vector_layers.CircleMarker at 0x7f71d39b0a58>,\n",
       " <folium.vector_layers.CircleMarker at 0x7f71d39b0940>,\n",
       " <folium.vector_layers.CircleMarker at 0x7f71d39b06a0>,\n",
       " <folium.vector_layers.CircleMarker at 0x7f71d39b09e8>,\n",
       " <folium.vector_layers.CircleMarker at 0x7f71d39b0b00>,\n",
       " <folium.vector_layers.CircleMarker at 0x7f71d37e3748>,\n",
       " <folium.vector_layers.CircleMarker at 0x7f71d37d0828>,\n",
       " <folium.vector_layers.CircleMarker at 0x7f71d37e34e0>,\n",
       " <folium.vector_layers.CircleMarker at 0x7f71d39424a8>,\n",
       " <folium.vector_layers.CircleMarker at 0x7f71d39c4080>,\n",
       " <folium.vector_layers.CircleMarker at 0x7f71d39c4358>,\n",
       " <folium.vector_layers.CircleMarker at 0x7f71d39c4438>,\n",
       " <folium.vector_layers.CircleMarker at 0x7f71d39c44e0>,\n",
       " <folium.vector_layers.CircleMarker at 0x7f71d39c4588>,\n",
       " <folium.vector_layers.CircleMarker at 0x7f71d39c4630>,\n",
       " <folium.vector_layers.CircleMarker at 0x7f71d39c46d8>,\n",
       " <folium.vector_layers.CircleMarker at 0x7f71d39c4780>,\n",
       " <folium.vector_layers.CircleMarker at 0x7f71d39c4828>,\n",
       " <folium.vector_layers.CircleMarker at 0x7f71d37e36d8>,\n",
       " <folium.vector_layers.CircleMarker at 0x7f71d37e3c50>,\n",
       " <folium.vector_layers.CircleMarker at 0x7f71d39b0518>,\n",
       " <folium.vector_layers.CircleMarker at 0x7f71d39b05c0>,\n",
       " <folium.vector_layers.CircleMarker at 0x7f71d39b07f0>,\n",
       " <folium.vector_layers.CircleMarker at 0x7f71d39b0be0>,\n",
       " <folium.vector_layers.CircleMarker at 0x7f71d39b00f0>,\n",
       " <folium.vector_layers.CircleMarker at 0x7f71d39b0ef0>,\n",
       " <folium.vector_layers.CircleMarker at 0x7f71d39c42b0>,\n",
       " <folium.vector_layers.CircleMarker at 0x7f71d39c4400>,\n",
       " <folium.vector_layers.CircleMarker at 0x7f71d39c4160>,\n",
       " <folium.vector_layers.CircleMarker at 0x7f71d39c4240>,\n",
       " <folium.vector_layers.CircleMarker at 0x7f71d39c4860>,\n",
       " <folium.vector_layers.CircleMarker at 0x7f71d39c4550>,\n",
       " <folium.vector_layers.CircleMarker at 0x7f71d39c4898>,\n",
       " <folium.vector_layers.CircleMarker at 0x7f71d39c4978>,\n",
       " <folium.vector_layers.CircleMarker at 0x7f71d39c4a20>,\n",
       " <folium.vector_layers.CircleMarker at 0x7f71d39c4ac8>,\n",
       " <folium.vector_layers.CircleMarker at 0x7f71d39c4b70>,\n",
       " <folium.vector_layers.CircleMarker at 0x7f71d39c4c18>,\n",
       " <folium.vector_layers.CircleMarker at 0x7f71d39c4cc0>,\n",
       " <folium.vector_layers.CircleMarker at 0x7f71d39c4d68>,\n",
       " <folium.vector_layers.CircleMarker at 0x7f71d37e3fd0>,\n",
       " <folium.vector_layers.CircleMarker at 0x7f71d39b0ba8>,\n",
       " <folium.vector_layers.CircleMarker at 0x7f71d39b09b0>,\n",
       " <folium.vector_layers.CircleMarker at 0x7f71d39b04a8>,\n",
       " <folium.vector_layers.CircleMarker at 0x7f71d39303c8>,\n",
       " <folium.vector_layers.CircleMarker at 0x7f71d39b0f28>,\n",
       " <folium.vector_layers.CircleMarker at 0x7f71d37d0d30>,\n",
       " <folium.vector_layers.CircleMarker at 0x7f71d38b8780>,\n",
       " <folium.vector_layers.CircleMarker at 0x7f71d3942630>,\n",
       " <folium.vector_layers.CircleMarker at 0x7f71d39b0208>,\n",
       " <folium.vector_layers.CircleMarker at 0x7f71d39c46a0>,\n",
       " <folium.vector_layers.CircleMarker at 0x7f71d39c4940>,\n",
       " <folium.vector_layers.CircleMarker at 0x7f71d39c4198>,\n",
       " <folium.vector_layers.CircleMarker at 0x7f71d39c44a8>,\n",
       " <folium.vector_layers.CircleMarker at 0x7f71d39c4048>,\n",
       " <folium.vector_layers.CircleMarker at 0x7f71d39c4518>,\n",
       " <folium.vector_layers.CircleMarker at 0x7f71d39c4710>,\n",
       " <folium.vector_layers.CircleMarker at 0x7f71d39c4cf8>,\n",
       " <folium.vector_layers.CircleMarker at 0x7f71d39c4da0>,\n",
       " <folium.vector_layers.CircleMarker at 0x7f71d39c4a90>,\n",
       " <folium.vector_layers.CircleMarker at 0x7f71d39c4dd8>,\n",
       " <folium.vector_layers.CircleMarker at 0x7f71d39c4eb8>,\n",
       " <folium.vector_layers.CircleMarker at 0x7f71d3942390>,\n",
       " <folium.vector_layers.CircleMarker at 0x7f71d39b02b0>,\n",
       " <folium.vector_layers.CircleMarker at 0x7f71d39b0e80>,\n",
       " <folium.vector_layers.CircleMarker at 0x7f71d39b0e48>,\n",
       " <folium.vector_layers.CircleMarker at 0x7f71d38b8080>,\n",
       " <folium.vector_layers.CircleMarker at 0x7f71d37e34a8>,\n",
       " <folium.vector_layers.CircleMarker at 0x7f71d39b0fd0>,\n",
       " <folium.vector_layers.CircleMarker at 0x7f71d39c4908>,\n",
       " <folium.vector_layers.CircleMarker at 0x7f71d39c40f0>,\n",
       " <folium.vector_layers.CircleMarker at 0x7f71d39c49b0>,\n",
       " <folium.vector_layers.CircleMarker at 0x7f71d39c4278>,\n",
       " <folium.vector_layers.CircleMarker at 0x7f71d39c40b8>,\n",
       " <folium.vector_layers.CircleMarker at 0x7f71d39c45c0>,\n",
       " <folium.vector_layers.CircleMarker at 0x7f71d39c4b38>,\n",
       " <folium.vector_layers.CircleMarker at 0x7f71d39c4f98>,\n",
       " <folium.vector_layers.CircleMarker at 0x7f71d39c4fd0>,\n",
       " <folium.vector_layers.CircleMarker at 0x7f71d39c4a58>,\n",
       " <folium.vector_layers.CircleMarker at 0x7f71d39c4ef0>,\n",
       " <folium.vector_layers.CircleMarker at 0x7f71d39ec080>,\n",
       " <folium.vector_layers.CircleMarker at 0x7f71d39ec278>,\n",
       " <folium.vector_layers.CircleMarker at 0x7f71d39ec320>,\n",
       " <folium.vector_layers.CircleMarker at 0x7f71d39ec3c8>,\n",
       " <folium.vector_layers.CircleMarker at 0x7f71d39c48d0>,\n",
       " <folium.vector_layers.CircleMarker at 0x7f71d39c4b00>,\n",
       " <folium.vector_layers.CircleMarker at 0x7f71d39c43c8>,\n",
       " <folium.vector_layers.CircleMarker at 0x7f71d39c4ba8>,\n",
       " <folium.vector_layers.CircleMarker at 0x7f71d37e39e8>,\n",
       " <folium.vector_layers.CircleMarker at 0x7f71d39c4390>,\n",
       " <folium.vector_layers.CircleMarker at 0x7f71d39c4be0>,\n",
       " <folium.vector_layers.CircleMarker at 0x7f71d39b08d0>,\n",
       " <folium.vector_layers.CircleMarker at 0x7f71d39b0cf8>,\n",
       " <folium.vector_layers.CircleMarker at 0x7f71d39426d8>,\n",
       " <folium.vector_layers.CircleMarker at 0x7f71d39c4128>,\n",
       " <folium.vector_layers.CircleMarker at 0x7f71d39b05f8>,\n",
       " <folium.vector_layers.CircleMarker at 0x7f71d39ec1d0>,\n",
       " <folium.vector_layers.CircleMarker at 0x7f71d39ec128>,\n",
       " <folium.vector_layers.CircleMarker at 0x7f71d39ec438>,\n",
       " <folium.vector_layers.CircleMarker at 0x7f71d39ec518>,\n",
       " <folium.vector_layers.CircleMarker at 0x7f71d39ec5c0>,\n",
       " <folium.vector_layers.CircleMarker at 0x7f71d39ec668>,\n",
       " <folium.vector_layers.CircleMarker at 0x7f71d39ec710>,\n",
       " <folium.vector_layers.CircleMarker at 0x7f71d39ec7b8>,\n",
       " <folium.vector_layers.CircleMarker at 0x7f71d39ec860>,\n",
       " <folium.vector_layers.CircleMarker at 0x7f71d39ec908>,\n",
       " <folium.vector_layers.CircleMarker at 0x7f71d39b03c8>,\n",
       " <folium.vector_layers.CircleMarker at 0x7f71d37e3978>,\n",
       " <folium.vector_layers.CircleMarker at 0x7f71d39b0f98>,\n",
       " <folium.vector_layers.CircleMarker at 0x7f71d39c4f60>,\n",
       " <folium.vector_layers.CircleMarker at 0x7f71d39c4470>,\n",
       " <folium.vector_layers.CircleMarker at 0x7f71d39c4c50>,\n",
       " <folium.vector_layers.CircleMarker at 0x7f71d39c45f8>,\n",
       " <folium.vector_layers.CircleMarker at 0x7f71d39c4208>,\n",
       " <folium.vector_layers.CircleMarker at 0x7f71d39ec240>,\n",
       " <folium.vector_layers.CircleMarker at 0x7f71d39ec4e0>,\n",
       " <folium.vector_layers.CircleMarker at 0x7f71d39ec470>,\n",
       " <folium.vector_layers.CircleMarker at 0x7f71d39ec0f0>,\n",
       " <folium.vector_layers.CircleMarker at 0x7f71d39ec588>,\n",
       " <folium.vector_layers.CircleMarker at 0x7f71d39ec8d0>,\n",
       " <folium.vector_layers.CircleMarker at 0x7f71d39ec9e8>,\n",
       " <folium.vector_layers.CircleMarker at 0x7f71d39eca20>,\n",
       " <folium.vector_layers.CircleMarker at 0x7f71d39eca90>,\n",
       " <folium.vector_layers.CircleMarker at 0x7f71d39ecb38>,\n",
       " <folium.vector_layers.CircleMarker at 0x7f71d39ecbe0>,\n",
       " <folium.vector_layers.CircleMarker at 0x7f71d39ecc88>,\n",
       " <folium.vector_layers.CircleMarker at 0x7f71d39ecd30>,\n",
       " <folium.vector_layers.CircleMarker at 0x7f71d37e3b70>,\n",
       " <folium.vector_layers.CircleMarker at 0x7f71d39c49e8>,\n",
       " <folium.vector_layers.CircleMarker at 0x7f71d39c4e48>,\n",
       " <folium.vector_layers.CircleMarker at 0x7f71d39b07b8>,\n",
       " <folium.vector_layers.CircleMarker at 0x7f71d39c47b8>,\n",
       " <folium.vector_layers.CircleMarker at 0x7f71d39428d0>,\n",
       " <folium.vector_layers.CircleMarker at 0x7f71d39ecac8>,\n",
       " <folium.vector_layers.CircleMarker at 0x7f71d39ec208>,\n",
       " <folium.vector_layers.CircleMarker at 0x7f71d39ec780>,\n",
       " <folium.vector_layers.CircleMarker at 0x7f71d39ec550>,\n",
       " <folium.vector_layers.CircleMarker at 0x7f71d39ec198>,\n",
       " <folium.vector_layers.CircleMarker at 0x7f71d39ec160>,\n",
       " <folium.vector_layers.CircleMarker at 0x7f71d39ec898>,\n",
       " <folium.vector_layers.CircleMarker at 0x7f71d39eca58>,\n",
       " <folium.vector_layers.CircleMarker at 0x7f71d39ecda0>,\n",
       " <folium.vector_layers.CircleMarker at 0x7f71d39ece80>,\n",
       " <folium.vector_layers.CircleMarker at 0x7f71d39ecf28>,\n",
       " <folium.vector_layers.CircleMarker at 0x7f71d39ecfd0>,\n",
       " <folium.vector_layers.CircleMarker at 0x7f71d39ecef0>,\n",
       " <folium.vector_layers.CircleMarker at 0x7f71d39ecf98>,\n",
       " <folium.vector_layers.CircleMarker at 0x7f71d3a0a160>,\n",
       " <folium.vector_layers.CircleMarker at 0x7f71d3a0a2b0>,\n",
       " <folium.vector_layers.CircleMarker at 0x7f71d39ecf60>,\n",
       " <folium.vector_layers.CircleMarker at 0x7f71d39ec2e8>,\n",
       " <folium.vector_layers.CircleMarker at 0x7f71d39ec6a0>,\n",
       " <folium.vector_layers.CircleMarker at 0x7f71d39ec940>,\n",
       " <folium.vector_layers.CircleMarker at 0x7f71d39ec748>,\n",
       " <folium.vector_layers.CircleMarker at 0x7f71d39ec828>,\n",
       " <folium.vector_layers.CircleMarker at 0x7f71d39ec390>,\n",
       " <folium.vector_layers.CircleMarker at 0x7f71d39b0080>,\n",
       " <folium.vector_layers.CircleMarker at 0x7f71d39ec9b0>,\n",
       " <folium.vector_layers.CircleMarker at 0x7f71d39c47f0>,\n",
       " <folium.vector_layers.CircleMarker at 0x7f71d39c4f28>,\n",
       " <folium.vector_layers.CircleMarker at 0x7f71d39ec4a8>,\n",
       " <folium.vector_layers.CircleMarker at 0x7f71d39c4668>,\n",
       " <folium.vector_layers.CircleMarker at 0x7f71d3a0a198>,\n",
       " <folium.vector_layers.CircleMarker at 0x7f71d3a0a320>,\n",
       " <folium.vector_layers.CircleMarker at 0x7f71d3a0a400>,\n",
       " <folium.vector_layers.CircleMarker at 0x7f71d3a0a4a8>,\n",
       " <folium.vector_layers.CircleMarker at 0x7f71d3a0a550>,\n",
       " <folium.vector_layers.CircleMarker at 0x7f71d3a0a5f8>,\n",
       " <folium.vector_layers.CircleMarker at 0x7f71d3a0a6a0>,\n",
       " <folium.vector_layers.CircleMarker at 0x7f71d3a0a748>,\n",
       " <folium.vector_layers.CircleMarker at 0x7f71d3a0a7f0>,\n",
       " <folium.vector_layers.CircleMarker at 0x7f71d39c4e10>,\n",
       " <folium.vector_layers.CircleMarker at 0x7f71d39b0400>,\n",
       " <folium.vector_layers.CircleMarker at 0x7f71d39ec400>,\n",
       " <folium.vector_layers.CircleMarker at 0x7f71d39ec048>,\n",
       " <folium.vector_layers.CircleMarker at 0x7f71d39eccf8>,\n",
       " <folium.vector_layers.CircleMarker at 0x7f71d39ec5f8>,\n",
       " <folium.vector_layers.CircleMarker at 0x7f71d39ec6d8>,\n",
       " <folium.vector_layers.CircleMarker at 0x7f71d39ecd68>,\n",
       " <folium.vector_layers.CircleMarker at 0x7f71d3a0a6d8>,\n",
       " <folium.vector_layers.CircleMarker at 0x7f71d3a0a0f0>,\n",
       " <folium.vector_layers.CircleMarker at 0x7f71d3a0a358>,\n",
       " <folium.vector_layers.CircleMarker at 0x7f71d3a0a128>,\n",
       " <folium.vector_layers.CircleMarker at 0x7f71d3a0a828>,\n",
       " <folium.vector_layers.CircleMarker at 0x7f71d3a0a518>,\n",
       " <folium.vector_layers.CircleMarker at 0x7f71d3a0a860>,\n",
       " <folium.vector_layers.CircleMarker at 0x7f71d3a0a940>,\n",
       " <folium.vector_layers.CircleMarker at 0x7f71d3a0a9e8>,\n",
       " <folium.vector_layers.CircleMarker at 0x7f71d3a0aa90>,\n",
       " <folium.vector_layers.CircleMarker at 0x7f71d3a0ab38>,\n",
       " <folium.vector_layers.CircleMarker at 0x7f71d3a0abe0>,\n",
       " <folium.vector_layers.CircleMarker at 0x7f71d3a0ac88>,\n",
       " <folium.vector_layers.CircleMarker at 0x7f71d3a0ad30>,\n",
       " <folium.vector_layers.CircleMarker at 0x7f71d39ec7f0>,\n",
       " <folium.vector_layers.CircleMarker at 0x7f71d39ecc18>,\n",
       " <folium.vector_layers.CircleMarker at 0x7f71d39c4c88>,\n",
       " <folium.vector_layers.CircleMarker at 0x7f71d39eceb8>,\n",
       " <folium.vector_layers.CircleMarker at 0x7f71d39ece48>,\n",
       " <folium.vector_layers.CircleMarker at 0x7f71d3a0ac18>,\n",
       " <folium.vector_layers.CircleMarker at 0x7f71d3a0a048>,\n",
       " <folium.vector_layers.CircleMarker at 0x7f71d3a0a8d0>,\n",
       " <folium.vector_layers.CircleMarker at 0x7f71d3a0a080>,\n",
       " <folium.vector_layers.CircleMarker at 0x7f71d3a0a0b8>,\n",
       " <folium.vector_layers.CircleMarker at 0x7f71d3a0a438>,\n",
       " <folium.vector_layers.CircleMarker at 0x7f71d3a0a630>,\n",
       " <folium.vector_layers.CircleMarker at 0x7f71d3a0ad68>,\n",
       " <folium.vector_layers.CircleMarker at 0x7f71d3a0aa58>,\n",
       " <folium.vector_layers.CircleMarker at 0x7f71d3a0ada0>,\n",
       " <folium.vector_layers.CircleMarker at 0x7f71d3a0ae80>,\n",
       " <folium.vector_layers.CircleMarker at 0x7f71d3a0af28>,\n",
       " <folium.vector_layers.CircleMarker at 0x7f71d3a0afd0>,\n",
       " <folium.vector_layers.CircleMarker at 0x7f71d3a0aef0>,\n",
       " <folium.vector_layers.CircleMarker at 0x7f71d3a0af98>,\n",
       " <folium.vector_layers.CircleMarker at 0x7f71d3a204a8>,\n",
       " <folium.vector_layers.CircleMarker at 0x7f71d3a20588>,\n",
       " <folium.vector_layers.CircleMarker at 0x7f71d3a0af60>,\n",
       " <folium.vector_layers.CircleMarker at 0x7f71d3a0a7b8>,\n",
       " <folium.vector_layers.CircleMarker at 0x7f71d3a0a9b0>,\n",
       " <folium.vector_layers.CircleMarker at 0x7f71d3a0a2e8>,\n",
       " <folium.vector_layers.CircleMarker at 0x7f71d3a0a470>,\n",
       " <folium.vector_layers.CircleMarker at 0x7f71d3a0a5c0>,\n",
       " <folium.vector_layers.CircleMarker at 0x7f71d3a0a588>,\n",
       " <folium.vector_layers.CircleMarker at 0x7f71d39c4d30>,\n",
       " <folium.vector_layers.CircleMarker at 0x7f71d3a0a390>,\n",
       " <folium.vector_layers.CircleMarker at 0x7f71d39ecb70>,\n",
       " <folium.vector_layers.CircleMarker at 0x7f71d39ec0b8>,\n",
       " <folium.vector_layers.CircleMarker at 0x7f71d3a0a898>,\n",
       " <folium.vector_layers.CircleMarker at 0x7f71d39ecb00>,\n",
       " <folium.vector_layers.CircleMarker at 0x7f71d3a20128>,\n",
       " <folium.vector_layers.CircleMarker at 0x7f71d3a20470>,\n",
       " <folium.vector_layers.CircleMarker at 0x7f71d3a206d8>,\n",
       " <folium.vector_layers.CircleMarker at 0x7f71d3a209e8>,\n",
       " <folium.vector_layers.CircleMarker at 0x7f71d3a20be0>,\n",
       " <folium.vector_layers.CircleMarker at 0x7f71d3a20b00>,\n",
       " <folium.vector_layers.CircleMarker at 0x7f71d3a20828>,\n",
       " <folium.vector_layers.CircleMarker at 0x7f71d3a20668>,\n",
       " <folium.vector_layers.CircleMarker at 0x7f71d3a20e48>,\n",
       " <folium.vector_layers.CircleMarker at 0x7f71d39ece10>,\n",
       " <folium.vector_layers.CircleMarker at 0x7f71d39c4748>,\n",
       " <folium.vector_layers.CircleMarker at 0x7f71d3a0a908>,\n",
       " <folium.vector_layers.CircleMarker at 0x7f71d3a0a3c8>,\n",
       " <folium.vector_layers.CircleMarker at 0x7f71d3a0acf8>,\n",
       " <folium.vector_layers.CircleMarker at 0x7f71d3a0a278>,\n",
       " <folium.vector_layers.CircleMarker at 0x7f71d3a0ac50>,\n",
       " <folium.vector_layers.CircleMarker at 0x7f71d3a0a208>,\n",
       " <folium.vector_layers.CircleMarker at 0x7f71d3a0ab70>,\n",
       " <folium.vector_layers.CircleMarker at 0x7f71d3a20a90>,\n",
       " <folium.vector_layers.CircleMarker at 0x7f71d3a20198>,\n",
       " <folium.vector_layers.CircleMarker at 0x7f71d3a205c0>,\n",
       " <folium.vector_layers.CircleMarker at 0x7f71d3a20940>,\n",
       " <folium.vector_layers.CircleMarker at 0x7f71d3a20c18>,\n",
       " <folium.vector_layers.CircleMarker at 0x7f71d3a20eb8>,\n",
       " <folium.vector_layers.CircleMarker at 0x7f71d3a20a20>,\n",
       " <folium.vector_layers.CircleMarker at 0x7f71d3a20358>,\n",
       " <folium.vector_layers.CircleMarker at 0x7f71d3a20630>,\n",
       " <folium.vector_layers.CircleMarker at 0x7f71d3a20e10>,\n",
       " <folium.vector_layers.CircleMarker at 0x7f71d3a20da0>,\n",
       " <folium.vector_layers.CircleMarker at 0x7f71d3a20710>,\n",
       " <folium.vector_layers.CircleMarker at 0x7f71d3a0aba8>,\n",
       " <folium.vector_layers.CircleMarker at 0x7f71d3a0aeb8>,\n",
       " <folium.vector_layers.CircleMarker at 0x7f71d39ecc50>,\n",
       " <folium.vector_layers.CircleMarker at 0x7f71d3a0add8>,\n",
       " <folium.vector_layers.CircleMarker at 0x7f71d3a0a4e0>,\n",
       " <folium.vector_layers.CircleMarker at 0x7f71d39ec2b0>,\n",
       " <folium.vector_layers.CircleMarker at 0x7f71d3a20550>,\n",
       " <folium.vector_layers.CircleMarker at 0x7f71d3a20080>,\n",
       " <folium.vector_layers.CircleMarker at 0x7f71d3a20208>,\n",
       " <folium.vector_layers.CircleMarker at 0x7f71d3a20400>,\n",
       " <folium.vector_layers.CircleMarker at 0x7f71d3a207f0>,\n",
       " <folium.vector_layers.CircleMarker at 0x7f71d3a20748>,\n",
       " <folium.vector_layers.CircleMarker at 0x7f71d3a20d30>,\n",
       " <folium.vector_layers.CircleMarker at 0x7f71d3a20ef0>,\n",
       " <folium.vector_layers.CircleMarker at 0x7f71d3a20860>,\n",
       " <folium.vector_layers.CircleMarker at 0x7f71d3a20898>,\n",
       " <folium.vector_layers.CircleMarker at 0x7f71d3a20518>,\n",
       " <folium.vector_layers.CircleMarker at 0x7f71d3a20f98>,\n",
       " <folium.vector_layers.CircleMarker at 0x7f71d3a200f0>,\n",
       " <folium.vector_layers.CircleMarker at 0x7f71d3a20438>,\n",
       " <folium.vector_layers.CircleMarker at 0x7f71d3a20d68>,\n",
       " <folium.vector_layers.CircleMarker at 0x7f71d3a208d0>,\n",
       " <folium.vector_layers.CircleMarker at 0x7f71d3a200b8>,\n",
       " <folium.vector_layers.CircleMarker at 0x7f71d3a204e0>,\n",
       " <folium.vector_layers.CircleMarker at 0x7f71d3a20fd0>,\n",
       " <folium.vector_layers.CircleMarker at 0x7f71d3a205f8>,\n",
       " <folium.vector_layers.CircleMarker at 0x7f71d3a20780>,\n",
       " <folium.vector_layers.CircleMarker at 0x7f71d3a20320>,\n",
       " <folium.vector_layers.CircleMarker at 0x7f71d3a20240>,\n",
       " <folium.vector_layers.CircleMarker at 0x7f71d3a20048>,\n",
       " <folium.vector_layers.CircleMarker at 0x7f71d3a20ba8>,\n",
       " <folium.vector_layers.CircleMarker at 0x7f71d3a209b0>,\n",
       " <folium.vector_layers.CircleMarker at 0x7f71d3a0a668>,\n",
       " <folium.vector_layers.CircleMarker at 0x7f71d3a0ae10>,\n",
       " <folium.vector_layers.CircleMarker at 0x7f71d3a0aac8>,\n",
       " <folium.vector_layers.CircleMarker at 0x7f71d39ec358>,\n",
       " <folium.vector_layers.CircleMarker at 0x7f71d37781d0>,\n",
       " <folium.vector_layers.CircleMarker at 0x7f71d37782e8>,\n",
       " <folium.vector_layers.CircleMarker at 0x7f71d3778390>,\n",
       " <folium.vector_layers.CircleMarker at 0x7f71d3778438>,\n",
       " <folium.vector_layers.CircleMarker at 0x7f71d37784e0>,\n",
       " <folium.vector_layers.CircleMarker at 0x7f71d3778588>,\n",
       " <folium.vector_layers.CircleMarker at 0x7f71d3778630>,\n",
       " <folium.vector_layers.CircleMarker at 0x7f71d37786d8>,\n",
       " <folium.vector_layers.CircleMarker at 0x7f71d3a20978>,\n",
       " <folium.vector_layers.CircleMarker at 0x7f71d3a20b38>,\n",
       " <folium.vector_layers.CircleMarker at 0x7f71d3a20f60>,\n",
       " <folium.vector_layers.CircleMarker at 0x7f71d3a206a0>,\n",
       " <folium.vector_layers.CircleMarker at 0x7f71d3a207b8>,\n",
       " <folium.vector_layers.CircleMarker at 0x7f71d3a201d0>,\n",
       " <folium.vector_layers.CircleMarker at 0x7f71d3a0ab00>,\n",
       " <folium.vector_layers.CircleMarker at 0x7f71d3a20dd8>,\n",
       " <folium.vector_layers.CircleMarker at 0x7f71d3a0aa20>,\n",
       " <folium.vector_layers.CircleMarker at 0x7f71d3a20390>,\n",
       " <folium.vector_layers.CircleMarker at 0x7f71d3a0acc0>,\n",
       " <folium.vector_layers.CircleMarker at 0x7f71d39ec978>,\n",
       " <folium.vector_layers.CircleMarker at 0x7f71d3942278>,\n",
       " <folium.vector_layers.CircleMarker at 0x7f71d37785c0>,\n",
       " <folium.vector_layers.CircleMarker at 0x7f71d37782b0>,\n",
       " <folium.vector_layers.CircleMarker at 0x7f71d3778198>,\n",
       " <folium.vector_layers.CircleMarker at 0x7f71d3778358>,\n",
       " <folium.vector_layers.CircleMarker at 0x7f71d37786a0>,\n",
       " <folium.vector_layers.CircleMarker at 0x7f71d37787b8>,\n",
       " <folium.vector_layers.CircleMarker at 0x7f71d37787f0>,\n",
       " <folium.vector_layers.CircleMarker at 0x7f71d3778860>,\n",
       " <folium.vector_layers.CircleMarker at 0x7f71d3778908>,\n",
       " <folium.vector_layers.CircleMarker at 0x7f71d39ecba8>,\n",
       " <folium.vector_layers.CircleMarker at 0x7f71d3a0a240>,\n",
       " <folium.vector_layers.CircleMarker at 0x7f71d39ecdd8>,\n",
       " <folium.vector_layers.CircleMarker at 0x7f71d39c4e80>,\n",
       " <folium.vector_layers.CircleMarker at 0x7f71d3a20c88>,\n",
       " <folium.vector_layers.CircleMarker at 0x7f71d3a20cf8>,\n",
       " <folium.vector_layers.CircleMarker at 0x7f71d3a20c50>,\n",
       " <folium.vector_layers.CircleMarker at 0x7f71d3a20908>,\n",
       " <folium.vector_layers.CircleMarker at 0x7f71d3a20b70>,\n",
       " <folium.vector_layers.CircleMarker at 0x7f71d3778128>,\n",
       " <folium.vector_layers.CircleMarker at 0x7f71d3778208>,\n",
       " <folium.vector_layers.CircleMarker at 0x7f71d3778278>,\n",
       " <folium.vector_layers.CircleMarker at 0x7f71d3778940>,\n",
       " <folium.vector_layers.CircleMarker at 0x7f71d3778710>,\n",
       " <folium.vector_layers.CircleMarker at 0x7f71d3778978>,\n",
       " <folium.vector_layers.CircleMarker at 0x7f71d3778a58>,\n",
       " <folium.vector_layers.CircleMarker at 0x7f71d3778b00>,\n",
       " <folium.vector_layers.CircleMarker at 0x7f71d3778ba8>,\n",
       " <folium.vector_layers.CircleMarker at 0x7f71d3778c50>,\n",
       " <folium.vector_layers.CircleMarker at 0x7f71d3778cf8>,\n",
       " <folium.vector_layers.CircleMarker at 0x7f71d3778da0>,\n",
       " <folium.vector_layers.CircleMarker at 0x7f71d3778e48>,\n",
       " <folium.vector_layers.CircleMarker at 0x7f71d39c4320>,\n",
       " <folium.vector_layers.CircleMarker at 0x7f71d3a0a780>,\n",
       " <folium.vector_layers.CircleMarker at 0x7f71d39ec630>,\n",
       " <folium.vector_layers.CircleMarker at 0x7f71d3a202e8>,\n",
       " <folium.vector_layers.CircleMarker at 0x7f71d3a0ae48>,\n",
       " <folium.vector_layers.CircleMarker at 0x7f71d3a20278>,\n",
       " <folium.vector_layers.CircleMarker at 0x7f71d3778b38>,\n",
       " <folium.vector_layers.CircleMarker at 0x7f71d37780f0>,\n",
       " <folium.vector_layers.CircleMarker at 0x7f71d37788d0>,\n",
       " <folium.vector_layers.CircleMarker at 0x7f71d3778160>,\n",
       " <folium.vector_layers.CircleMarker at 0x7f71d3778550>,\n",
       " <folium.vector_layers.CircleMarker at 0x7f71d37784a8>,\n",
       " <folium.vector_layers.CircleMarker at 0x7f71d3778e80>,\n",
       " <folium.vector_layers.CircleMarker at 0x7f71d3778b70>,\n",
       " <folium.vector_layers.CircleMarker at 0x7f71d3778eb8>,\n",
       " <folium.vector_layers.CircleMarker at 0x7f71d3778f98>,\n",
       " <folium.vector_layers.CircleMarker at 0x7f71d3778780>,\n",
       " <folium.vector_layers.CircleMarker at 0x7f71d3778ef0>,\n",
       " <folium.vector_layers.CircleMarker at 0x7f71d378f0f0>,\n",
       " <folium.vector_layers.CircleMarker at 0x7f71d378f278>,\n",
       " <folium.vector_layers.CircleMarker at 0x7f71d378f320>,\n",
       " <folium.vector_layers.CircleMarker at 0x7f71d378f3c8>,\n",
       " <folium.vector_layers.CircleMarker at 0x7f71d3778080>,\n",
       " <folium.vector_layers.CircleMarker at 0x7f71d3778ac8>,\n",
       " <folium.vector_layers.CircleMarker at 0x7f71d37789b0>,\n",
       " <folium.vector_layers.CircleMarker at 0x7f71d37780b8>,\n",
       " <folium.vector_layers.CircleMarker at 0x7f71d3778a20>,\n",
       " <folium.vector_layers.CircleMarker at 0x7f71d3778470>,\n",
       " <folium.vector_layers.CircleMarker at 0x7f71d3778240>,\n",
       " <folium.vector_layers.CircleMarker at 0x7f71d39eccc0>,\n",
       " <folium.vector_layers.CircleMarker at 0x7f71d3a0a1d0>,\n",
       " <folium.vector_layers.CircleMarker at 0x7f71d3a20e80>,\n",
       " <folium.vector_layers.CircleMarker at 0x7f71d3a202b0>,\n",
       " <folium.vector_layers.CircleMarker at 0x7f71d3778828>,\n",
       " <folium.vector_layers.CircleMarker at 0x7f71d378f198>,\n",
       " <folium.vector_layers.CircleMarker at 0x7f71d378f0b8>,\n",
       " <folium.vector_layers.CircleMarker at 0x7f71d378f438>,\n",
       " <folium.vector_layers.CircleMarker at 0x7f71d378f518>,\n",
       " <folium.vector_layers.CircleMarker at 0x7f71d378f5c0>,\n",
       " <folium.vector_layers.CircleMarker at 0x7f71d378f668>,\n",
       " <folium.vector_layers.CircleMarker at 0x7f71d378f710>,\n",
       " <folium.vector_layers.CircleMarker at 0x7f71d378f7b8>,\n",
       " <folium.vector_layers.CircleMarker at 0x7f71d378f860>,\n",
       " <folium.vector_layers.CircleMarker at 0x7f71d378f908>,\n",
       " <folium.vector_layers.CircleMarker at 0x7f71d3a20cc0>,\n",
       " <folium.vector_layers.CircleMarker at 0x7f71d3a0a978>,\n",
       " <folium.vector_layers.CircleMarker at 0x7f71d37783c8>]"
      ]
     },
     "execution_count": 107,
     "metadata": {},
     "output_type": "execute_result"
    }
   ],
   "source": [
    "map_with_markers"
   ]
  },
  {
   "cell_type": "markdown",
   "metadata": {},
   "source": [
    "### Using Nearest Neighbors"
   ]
  },
  {
   "cell_type": "markdown",
   "metadata": {},
   "source": [
    "Ok, let's write a function that given a latitude and longitude will predict the distance for us.  We'll do this by first finding the nearest trips given a latitude and longitude. "
   ]
  },
  {
   "cell_type": "markdown",
   "metadata": {},
   "source": [
    "Here we once again apply the nearest neighbors formula. As a first step, write a function named `distance_location` that calculates the distance in pickup location between two trips."
   ]
  },
  {
   "cell_type": "code",
   "execution_count": 108,
   "metadata": {},
   "outputs": [],
   "source": [
    "import math\n",
    "\n",
    "def distance_location(selected_trip, neighbor_trip):\n",
    "    return pow(pow(neighbor_trip['pickup_latitude']-selected_trip['pickup_latitude'],2)+pow(neighbor_trip['pickup_longitude']-selected_trip['pickup_longitude'],2),.5)\n",
    "    pass"
   ]
  },
  {
   "cell_type": "code",
   "execution_count": 109,
   "metadata": {},
   "outputs": [
    {
     "data": {
      "text/plain": [
       "0.235"
      ]
     },
     "execution_count": 109,
     "metadata": {},
     "output_type": "execute_result"
    }
   ],
   "source": [
    "first_trip = {'pickup_latitude': 40.64499, 'pickup_longitude': -73.78115, 'trip_distance': 18.38}\n",
    "second_trip = {'pickup_latitude': 40.766931, 'pickup_longitude': -73.982098, 'trip_distance': 1.3}\n",
    "distance_first_and_second = distance_location(first_trip, second_trip)\n",
    "\n",
    "distance_first_and_second and round(distance_first_and_second, 3) # 0.235"
   ]
  },
  {
   "cell_type": "markdown",
   "metadata": {},
   "source": [
    "Ok, next write a function called `distance_between_neighbors` that adds a new key-value pair, called `distance_from_selected`, that calculates the distance of the `neighbor_trip` from the `selected_trip`."
   ]
  },
  {
   "cell_type": "code",
   "execution_count": 110,
   "metadata": {},
   "outputs": [],
   "source": [
    "def distance_between_neighbors(selected_trip, neighbor_trip):\n",
    "    neighbor_trip['distance_from_selected'] = distance_location(selected_trip, neighbor_trip)\n",
    "    return neighbor_trip\n",
    "    pass"
   ]
  },
  {
   "cell_type": "code",
   "execution_count": 111,
   "metadata": {},
   "outputs": [
    {
     "data": {
      "text/plain": [
       "{'pickup_latitude': 40.766931,\n",
       " 'pickup_longitude': -73.982098,\n",
       " 'trip_distance': 1.3,\n",
       " 'distance_from_selected': 0.23505256047318146}"
      ]
     },
     "execution_count": 111,
     "metadata": {},
     "output_type": "execute_result"
    }
   ],
   "source": [
    "distance_between_neighbors(first_trip, second_trip)\n",
    "\n",
    "# {'distance_from_selected': 0.23505256047318146,\n",
    "#  'pickup_latitude': 40.766931,\n",
    "#  'pickup_longitude': -73.982098,\n",
    "#  'trip_distance': 1.3}"
   ]
  },
  {
   "cell_type": "markdown",
   "metadata": {},
   "source": [
    "Ok, now our `neighbor_trip` has another attribute called `distance_from_selected`, that indicates the distance from the `neighbor_trip`'s pickup location from the `selected_trip`."
   ]
  },
  {
   "cell_type": "markdown",
   "metadata": {},
   "source": [
    "> ** Understand the data:** Our dictionary now has a few attributes, two of which say distance.  Let's make sure we understand the difference. \n",
    "> * **`distance_from_selected`:** This is our calculation of the distance of the neighbor's pickup location from the selected trip.\n",
    "> * **`trip_distance`:** This is the attribute we were provided initially.  It tells us the length of the neighbor's taxi trip from pickup to drop-off.  "
   ]
  },
  {
   "cell_type": "markdown",
   "metadata": {},
   "source": [
    "Next, write a function called `distance_all` that provided a list of neighbors, returns each of those neighbors with their respective `distance_from_selected` numbers."
   ]
  },
  {
   "cell_type": "code",
   "execution_count": 147,
   "metadata": {},
   "outputs": [],
   "source": [
    "def distance_all(selected_individual, neighbors):\n",
    "    neighbors.pop(0)\n",
    "    return list(map(lambda x: distance_between_neighbors(selected_individual,x),neighbors))\n",
    "    pass"
   ]
  },
  {
   "cell_type": "code",
   "execution_count": 148,
   "metadata": {},
   "outputs": [
    {
     "data": {
      "text/plain": [
       "[{'pickup_latitude': 40.766931,\n",
       "  'pickup_longitude': -73.982098,\n",
       "  'trip_distance': 1.3,\n",
       "  'distance_from_selected': 0.23505256047318146},\n",
       " {'pickup_latitude': 40.77773,\n",
       "  'pickup_longitude': -73.951902,\n",
       "  'trip_distance': 4.5,\n",
       "  'distance_from_selected': 0.2162779533470808},\n",
       " {'pickup_latitude': 40.795678,\n",
       "  'pickup_longitude': -73.971049,\n",
       "  'trip_distance': 2.4,\n",
       "  'distance_from_selected': 0.24242215976473674}]"
      ]
     },
     "execution_count": 148,
     "metadata": {},
     "output_type": "execute_result"
    }
   ],
   "source": [
    "cleaned_trips and distance_all(first_trip, cleaned_trips[0:4])"
   ]
  },
  {
   "cell_type": "markdown",
   "metadata": {},
   "source": [
    "Now write the nearest neighbors formula to calculate the distance of the `selected_trip` from all of the `cleaned_trips` in our dataset.  If no number is provided, it should return the top 3 neighbors."
   ]
  },
  {
   "cell_type": "code",
   "execution_count": 149,
   "metadata": {},
   "outputs": [],
   "source": [
    "def nearest_neighbors(selected_trip, trips, number = 3):\n",
    "    number = number or len(trips)\n",
    "    neighbor_distances = distance_all(selected_trip, trips)\n",
    "    sorted_neighbors = sorted(neighbor_distances, key=lambda neighbor: neighbor['distance_from_selected'])\n",
    "    return sorted_neighbors[:number]\n",
    "    pass"
   ]
  },
  {
   "cell_type": "code",
   "execution_count": 150,
   "metadata": {},
   "outputs": [
    {
     "data": {
      "text/plain": [
       "[{'pickup_latitude': 40.64483,\n",
       "  'pickup_longitude': -73.781578,\n",
       "  'trip_distance': 7.78,\n",
       "  'distance_from_selected': 0.0004569288784918792},\n",
       " {'pickup_latitude': 40.644657,\n",
       "  'pickup_longitude': -73.782229,\n",
       "  'trip_distance': 12.7,\n",
       "  'distance_from_selected': 0.0011292165425673159},\n",
       " {'pickup_latitude': 40.648509,\n",
       "  'pickup_longitude': -73.783508,\n",
       "  'trip_distance': 17.3,\n",
       "  'distance_from_selected': 0.0042359798158141185}]"
      ]
     },
     "execution_count": 150,
     "metadata": {},
     "output_type": "execute_result"
    }
   ],
   "source": [
    "new_trip = {'pickup_latitude': 40.64499,\n",
    "'pickup_longitude': -73.78115,\n",
    "'trip_distance': 18.38}\n",
    "\n",
    "nearest_three_neighbors = nearest_neighbors(new_trip, cleaned_trips or [], number = 3)\n",
    "nearest_three_neighbors\n",
    "# [{'distance_from_selected': 0.0004569288784918792,\n",
    "#   'pickup_latitude': 40.64483,\n",
    "#   'pickup_longitude': -73.781578,\n",
    "#   'trip_distance': 7.78},\n",
    "#  {'distance_from_selected': 0.0011292165425673159,\n",
    "#   'pickup_latitude': 40.644657,\n",
    "#   'pickup_longitude': -73.782229,\n",
    "#   'trip_distance': 12.7},\n",
    "#  {'distance_from_selected': 0.0042359798158141185,\n",
    "#   'pickup_latitude': 40.648509,\n",
    "#   'pickup_longitude': -73.783508,\n",
    "#   'trip_distance': 17.3}]"
   ]
  },
  {
   "cell_type": "markdown",
   "metadata": {},
   "source": [
    "Ok great! Now that we can provide a new trip location, and find the distances of the three nearest trips, we can take  calculate an estimate of the trip distance for that new trip location.  \n",
    "\n",
    "We do so simply by calculating the average of it's nearest neighbors."
   ]
  },
  {
   "cell_type": "code",
   "execution_count": 151,
   "metadata": {},
   "outputs": [
    {
     "data": {
      "text/plain": [
       "12.593"
      ]
     },
     "execution_count": 151,
     "metadata": {},
     "output_type": "execute_result"
    }
   ],
   "source": [
    "import statistics\n",
    "def mean_distance(neighbors):\n",
    "    nearest_distances = list(map(lambda neighbor: neighbor['trip_distance'], neighbors))\n",
    "    return round(statistics.mean(nearest_distances), 3)\n",
    "\n",
    "nearest_three_neighbors = nearest_neighbors(new_trip, cleaned_trips or [], number = 3)\n",
    "distance_estimate_of_selected_trip = mean_distance(nearest_three_neighbors) # 12.593\n",
    "distance_estimate_of_selected_trip"
   ]
  },
  {
   "cell_type": "markdown",
   "metadata": {},
   "source": [
    "### Choosing the correct number of neighbors"
   ]
  },
  {
   "cell_type": "markdown",
   "metadata": {},
   "source": [
    "Now, as we know from the last lesson, one tricky element is to determine how many neighbors to choose, our $k$ value,  before calculating the average.  We want to choose our value of $k$ such that it properly matches actual data, and so that it applies to new data.  There are fancy formulas to ensure that we **train** our algorithm so that our formula is optimized for all data, but here let's see different $k$ values manually.  This is the gist of choosing our $k$ value:\n",
    "\n",
    "* If we choose a $k$ value too low, our formula will be too heavily influenced by a single neighbor, whereas if our $k$ value is too high, we will be choosing so many neighbors that our nearest neighbors formula will not be adjust enough according to locations.\n",
    "\n",
    "Ok, let's experiment with this."
   ]
  },
  {
   "cell_type": "markdown",
   "metadata": {},
   "source": [
    "First, let's choose a midtown location, to see what the trip distance would be.  A Google search reveals the coordinates of 51st and 7th avenue to be the following."
   ]
  },
  {
   "cell_type": "code",
   "execution_count": 152,
   "metadata": {},
   "outputs": [],
   "source": [
    "midtown_trip = dict(pickup_latitude=40.761710, pickup_longitude=-73.982760)"
   ]
  },
  {
   "cell_type": "code",
   "execution_count": 153,
   "metadata": {},
   "outputs": [
    {
     "data": {
      "text/plain": [
       "[{'pickup_latitude': 40.761372,\n",
       "  'pickup_longitude': -73.982602,\n",
       "  'trip_distance': 0.58,\n",
       "  'distance_from_selected': 0.00037310588309379025},\n",
       " {'pickup_latitude': 40.762444,\n",
       "  'pickup_longitude': -73.98244,\n",
       "  'trip_distance': 0.8,\n",
       "  'distance_from_selected': 0.00080072217404248},\n",
       " {'pickup_latitude': 40.762767,\n",
       "  'pickup_longitude': -73.982293,\n",
       "  'trip_distance': 1.4,\n",
       "  'distance_from_selected': 0.0011555682584735844},\n",
       " {'pickup_latitude': 40.762868,\n",
       "  'pickup_longitude': -73.983233,\n",
       "  'trip_distance': 8.3,\n",
       "  'distance_from_selected': 0.0012508768924205918},\n",
       " {'pickup_latitude': 40.760057,\n",
       "  'pickup_longitude': -73.983502,\n",
       "  'trip_distance': 1.26,\n",
       "  'distance_from_selected': 0.0018118976240381972},\n",
       " {'pickup_latitude': 40.760644,\n",
       "  'pickup_longitude': -73.984531,\n",
       "  'trip_distance': 0.0,\n",
       "  'distance_from_selected': 0.002067074502774709},\n",
       " {'pickup_latitude': 40.762107,\n",
       "  'pickup_longitude': -73.98479,\n",
       "  'trip_distance': 1.72,\n",
       "  'distance_from_selected': 0.0020684557041472677}]"
      ]
     },
     "execution_count": 153,
     "metadata": {},
     "output_type": "execute_result"
    }
   ],
   "source": [
    "seven_closest = nearest_neighbors(midtown_trip, cleaned_trips, number = 7)\n",
    "seven_closest\n",
    "# [{'trip_distance': 0.58,\n",
    "#   'pickup_latitude': 40.761372,\n",
    "#   'pickup_longitude': -73.982602,\n",
    "#   'distance_from_selected': 0.00037310588309379025},\n",
    "#  {'trip_distance': 0.8,\n",
    "#   'pickup_latitude': 40.762444,\n",
    "#   'pickup_longitude': -73.98244,\n",
    "#   'distance_from_selected': 0.00080072217404248},\n",
    "#  {'trip_distance': 1.4,\n",
    "#   'pickup_latitude': 40.762767,\n",
    "#   'pickup_longitude': -73.982293,\n",
    "#   'distance_from_selected': 0.0011555682584735844},\n",
    "#  {'trip_distance': 8.3,\n",
    "#   'pickup_latitude': 40.762868,\n",
    "#   'pickup_longitude': -73.983233,\n",
    "#   'distance_from_selected': 0.0012508768924205918},\n",
    "#  {'trip_distance': 1.26,\n",
    "#   'pickup_latitude': 40.760057,\n",
    "#   'pickup_longitude': -73.983502,\n",
    "#   'distance_from_selected': 0.0018118976240381972},\n",
    "#  {'trip_distance': 0.0,\n",
    "#   'pickup_latitude': 40.760644,\n",
    "#   'pickup_longitude': -73.984531,\n",
    "#   'distance_from_selected': 0.002067074502774709},\n",
    "#  {'trip_distance': 1.72,\n",
    "#   'pickup_latitude': 40.762107,\n",
    "#   'pickup_longitude': -73.98479,\n",
    "#   'distance_from_selected': 0.0020684557041472677}]"
   ]
  },
  {
   "cell_type": "markdown",
   "metadata": {},
   "source": [
    "Looking at the `distance_from_selected` it appears that our our trips are still fairly close to our selected trip.  Notice that most of the data is within a distance of .002 away, so going to the top 7 nearest neighbors didn't seem to give us neighbors too far from each other, which is a good sign.\n",
    "\n",
    "Still, it's hard to know what distance in latitude and longitude really look like, so let's map the data. "
   ]
  },
  {
   "cell_type": "code",
   "execution_count": null,
   "metadata": {},
   "outputs": [],
   "source": [
    "midtown_location = location(midtown_trip) # [40.76171, -73.98276]\n",
    "midtown_map = map_from(midtown_location, 16)\n",
    "closest_markers = markers_from_trips(seven_closest)\n",
    "\n",
    "add_markers(closest_markers, midtown_map)"
   ]
  },
  {
   "cell_type": "markdown",
   "metadata": {},
   "source": [
    "Ok.  These locations stay fairly close to our estimated location of 51st street and 7th Avenue.  So they could be a good estimate of a trip distance."
   ]
  },
  {
   "cell_type": "code",
   "execution_count": null,
   "metadata": {},
   "outputs": [],
   "source": [
    "mean_distance(seven_closest) # 2.009"
   ]
  },
  {
   "cell_type": "markdown",
   "metadata": {},
   "source": [
    "Ok, now let's try a different location"
   ]
  },
  {
   "cell_type": "code",
   "execution_count": null,
   "metadata": {},
   "outputs": [],
   "source": [
    "charging_bull_closest = nearest_neighbors({'pickup_latitude': 40.7049, 'pickup_longitude': -74.0137}, cleaned_trips, number = 12)"
   ]
  },
  {
   "cell_type": "code",
   "execution_count": null,
   "metadata": {
    "scrolled": true
   },
   "outputs": [],
   "source": [
    "mean_distance(charging_bull_closest) # 3.145"
   ]
  },
  {
   "cell_type": "markdown",
   "metadata": {},
   "source": [
    "Ok, so there appears to be a significant difference between choosing a location near Times Square versus choosing a location at Wall Street."
   ]
  },
  {
   "cell_type": "markdown",
   "metadata": {},
   "source": [
    "### Summary"
   ]
  },
  {
   "cell_type": "markdown",
   "metadata": {},
   "source": [
    "In this lab, we used the nearest neighbors function to predict the length of a taxi ride.  To do so, we selected a location, then found a number of taxi rides closest to that location, and finally took the average trip lengths of the nearest taxi rides to find an estimate of the new ride's trip length.  You can see that even with just a little bit of math and programming we can begin to make meaningful predictions with data."
   ]
  }
 ],
 "metadata": {
  "kernelspec": {
   "display_name": "Python 3",
   "language": "python",
   "name": "python3"
  },
  "language_info": {
   "codemirror_mode": {
    "name": "ipython",
    "version": 3
   },
   "file_extension": ".py",
   "mimetype": "text/x-python",
   "name": "python",
   "nbconvert_exporter": "python",
   "pygments_lexer": "ipython3",
   "version": "3.6.6"
  }
 },
 "nbformat": 4,
 "nbformat_minor": 2
}
